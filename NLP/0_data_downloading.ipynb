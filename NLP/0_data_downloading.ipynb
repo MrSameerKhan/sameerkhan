{
 "cells": [
  {
   "cell_type": "code",
   "execution_count": 1,
   "id": "933a23f6",
   "metadata": {},
   "outputs": [
    {
     "data": {
      "text/plain": [
       "('D:/AIML/data/ag_news_test.csv', <http.client.HTTPMessage at 0x266be3478e0>)"
      ]
     },
     "execution_count": 1,
     "metadata": {},
     "output_type": "execute_result"
    }
   ],
   "source": [
    "import urllib.request\n",
    "\n",
    "train_url = \"https://raw.githubusercontent.com/mhjabreel/CharCnn_Keras/master/data/ag_news_csv/train.csv\"\n",
    "test_url  = \"https://raw.githubusercontent.com/mhjabreel/CharCnn_Keras/master/data/ag_news_csv/test.csv\"\n",
    "\n",
    "urllib.request.urlretrieve(train_url, \"D:/AIML/data/ag_news_train.csv\")\n",
    "urllib.request.urlretrieve(test_url,  \"D:/AIML/data/ag_news_test.csv\")\n"
   ]
  },
  {
   "cell_type": "code",
   "execution_count": null,
   "id": "ec5aee0a",
   "metadata": {},
   "outputs": [],
   "source": []
  }
 ],
 "metadata": {
  "kernelspec": {
   "display_name": "homl3",
   "language": "python",
   "name": "python3"
  },
  "language_info": {
   "codemirror_mode": {
    "name": "ipython",
    "version": 3
   },
   "file_extension": ".py",
   "mimetype": "text/x-python",
   "name": "python",
   "nbconvert_exporter": "python",
   "pygments_lexer": "ipython3",
   "version": "3.10.17"
  }
 },
 "nbformat": 4,
 "nbformat_minor": 5
}
