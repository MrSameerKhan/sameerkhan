{
 "cells": [
  {
   "cell_type": "code",
   "execution_count": 4,
   "id": "ae871432",
   "metadata": {},
   "outputs": [],
   "source": [
    "import pandas as pd\n",
    "import numpy as np\n",
    "import tensorflow as tf\n",
    "from tensorflow.keras import layers, Model, callbacks\n",
    "from sklearn.model_selection import train_test_split"
   ]
  },
  {
   "cell_type": "code",
   "execution_count": 5,
   "id": "190f367a",
   "metadata": {},
   "outputs": [],
   "source": [
    "# ────────────────────────────────────────────────────────────────────────────────\n",
    "# 0) Hyperparameters & Constants\n",
    "# ────────────────────────────────────────────────────────────────────────────────\n",
    "MAX_VOCAB_SIZE    = 20_000\n",
    "MAX_SEQUENCE_LEN  = 200\n",
    "EMBEDDING_DIM     = 128\n",
    "LSTM_UNITS        = 64\n",
    "BATCH_SIZE        = 64\n",
    "EPOCHS            = 1\n",
    "AUTOTUNE          = tf.data.AUTOTUNE\n",
    "NUM_CLASSES       = 4\n",
    "CLASS_NAMES       = [\"World\", \"Sports\", \"Business\", \"Sci/Tech\"]\n"
   ]
  },
  {
   "cell_type": "code",
   "execution_count": 6,
   "id": "2ff68e04",
   "metadata": {},
   "outputs": [],
   "source": [
    "# ────────────────────────────────────────────────────────────────────────────────\n",
    "# 1) Load & preprocess AG News CSVs\n",
    "# ────────────────────────────────────────────────────────────────────────────────\n",
    "train_df = pd.read_csv(\"D:/AIML/data/ag_news_train.csv\", header=None,\n",
    "                       names=[\"label\",\"title\",\"description\"])\n",
    "test_df  = pd.read_csv(\"D:/AIML/data/ag_news_test.csv\",  header=None,\n",
    "                       names=[\"label\",\"title\",\"description\"])\n",
    "train_df[\"label\"] -= 1\n",
    "test_df[\"label\"]  -= 1\n",
    "train_df[\"text\"] = train_df[\"title\"].str.cat(train_df[\"description\"], sep=\" \")\n",
    "test_df[\"text\"]  = test_df[\"title\"].str.cat(test_df[\"description\"], sep=\" \")\n"
   ]
  },
  {
   "cell_type": "code",
   "execution_count": 7,
   "id": "ba70ec1f",
   "metadata": {},
   "outputs": [],
   "source": [
    "# ────────────────────────────────────────────────────────────────────────────────\n",
    "# 2) Train/validation split\n",
    "# ────────────────────────────────────────────────────────────────────────────────\n",
    "train_texts, val_texts, train_labels, val_labels = train_test_split(\n",
    "    train_df[\"text\"].values,\n",
    "    train_df[\"label\"].values,\n",
    "    test_size=0.2,\n",
    "    random_state=42,\n",
    "    stratify=train_df[\"label\"].values\n",
    ")\n",
    "test_texts  = test_df[\"text\"].values\n",
    "test_labels = test_df[\"label\"].values\n"
   ]
  },
  {
   "cell_type": "code",
   "execution_count": 8,
   "id": "762c5c0d",
   "metadata": {},
   "outputs": [],
   "source": [
    "# ────────────────────────────────────────────────────────────────────────────────\n",
    "# 3) TextVectorization\n",
    "# ────────────────────────────────────────────────────────────────────────────────\n",
    "vectorizer = layers.TextVectorization(\n",
    "    max_tokens=MAX_VOCAB_SIZE,\n",
    "    output_mode=\"int\",\n",
    "    output_sequence_length=MAX_SEQUENCE_LEN\n",
    ")\n",
    "vectorizer.adapt(train_texts)\n",
    "\n",
    "def vectorize_text(text, label):\n",
    "    text = tf.expand_dims(text, -1)\n",
    "    token_ids = vectorizer(text)\n",
    "    return tf.squeeze(token_ids, axis=0), label\n",
    "\n",
    "def make_dataset(texts, labels, shuffle=False):\n",
    "    ds = tf.data.Dataset.from_tensor_slices((texts, labels))\n",
    "    if shuffle:\n",
    "        ds = ds.shuffle(len(texts), seed=42)\n",
    "    ds = ds.map(vectorize_text, num_parallel_calls=AUTOTUNE)\n",
    "    return ds.batch(BATCH_SIZE).prefetch(AUTOTUNE)\n",
    "\n",
    "train_ds = make_dataset(train_texts, train_labels, shuffle=True)\n",
    "val_ds   = make_dataset(val_texts,   val_labels)\n",
    "test_ds  = make_dataset(test_texts,  test_labels)"
   ]
  },
  {
   "cell_type": "code",
   "execution_count": 9,
   "id": "3a3a2cd9",
   "metadata": {},
   "outputs": [
    {
     "name": "stdout",
     "output_type": "stream",
     "text": [
      "Model: \"bilstm_agnews\"\n",
      "_________________________________________________________________\n",
      " Layer (type)                Output Shape              Param #   \n",
      "=================================================================\n",
      " input_tokens (InputLayer)   [(None, 200)]             0         \n",
      "                                                                 \n",
      " embedding (Embedding)       (None, 200, 128)          2560000   \n",
      "                                                                 \n",
      " bidirectional (Bidirection  (None, 128)               98816     \n",
      " al)                                                             \n",
      "                                                                 \n",
      " dropout (Dropout)           (None, 128)               0         \n",
      "                                                                 \n",
      " dense (Dense)               (None, 64)                8256      \n",
      "                                                                 \n",
      " dropout_1 (Dropout)         (None, 64)                0         \n",
      "                                                                 \n",
      " dense_1 (Dense)             (None, 4)                 260       \n",
      "                                                                 \n",
      "=================================================================\n",
      "Total params: 2667332 (10.18 MB)\n",
      "Trainable params: 2667332 (10.18 MB)\n",
      "Non-trainable params: 0 (0.00 Byte)\n",
      "_________________________________________________________________\n"
     ]
    }
   ],
   "source": [
    "# ────────────────────────────────────────────────────────────────────────────────\n",
    "# 4) Build BiLSTM Functional Model\n",
    "# ────────────────────────────────────────────────────────────────────────────────\n",
    "inp = layers.Input(shape=(MAX_SEQUENCE_LEN,), dtype=\"int32\", name=\"input_tokens\")\n",
    "x   = layers.Embedding(\n",
    "          input_dim=MAX_VOCAB_SIZE,\n",
    "          output_dim=EMBEDDING_DIM,\n",
    "          input_length=MAX_SEQUENCE_LEN,\n",
    "          mask_zero=True\n",
    "      )(inp)\n",
    "x   = layers.Bidirectional(layers.LSTM(LSTM_UNITS))(x)\n",
    "x   = layers.Dropout(0.5)(x)\n",
    "x   = layers.Dense(64, activation=\"relu\")(x)\n",
    "x   = layers.Dropout(0.5)(x)\n",
    "out = layers.Dense(NUM_CLASSES, activation=\"softmax\")(x)\n",
    "model = Model(inputs=inp, outputs=out, name=\"bilstm_agnews\")\n",
    "\n",
    "model.compile(\n",
    "    optimizer=\"adam\",\n",
    "    loss=\"sparse_categorical_crossentropy\",\n",
    "    metrics=[\"accuracy\"]\n",
    ")\n",
    "model.summary()"
   ]
  },
  {
   "cell_type": "code",
   "execution_count": 10,
   "id": "75e08910",
   "metadata": {},
   "outputs": [
    {
     "name": "stdout",
     "output_type": "stream",
     "text": [
      "1500/1500 [==============================] - ETA: 0s - loss: 0.3839 - accuracy: 0.8695"
     ]
    },
    {
     "name": "stderr",
     "output_type": "stream",
     "text": [
      "d:\\Softwares\\anaconda\\envs\\homl3\\lib\\site-packages\\keras\\src\\engine\\training.py:3079: UserWarning: You are saving your model as an HDF5 file via `model.save()`. This file format is considered legacy. We recommend using instead the native Keras format, e.g. `model.save('my_model.keras')`.\n",
      "  saving_api.save_model(\n"
     ]
    },
    {
     "name": "stdout",
     "output_type": "stream",
     "text": [
      "1500/1500 [==============================] - 387s 254ms/step - loss: 0.3839 - accuracy: 0.8695 - val_loss: 0.2469 - val_accuracy: 0.9185\n"
     ]
    },
    {
     "data": {
      "text/plain": [
       "<keras.src.callbacks.History at 0x25e34613580>"
      ]
     },
     "execution_count": 10,
     "metadata": {},
     "output_type": "execute_result"
    }
   ],
   "source": [
    "# ────────────────────────────────────────────────────────────────────────────────\n",
    "# 5) Train\n",
    "# ────────────────────────────────────────────────────────────────────────────────\n",
    "ckpt = callbacks.ModelCheckpoint(\n",
    "    \"D:/AIML/data/bilstm_txt_cls-fun.h5\",\n",
    "    monitor=\"val_accuracy\",\n",
    "    save_best_only=True\n",
    ")\n",
    "es = callbacks.EarlyStopping(\n",
    "    monitor=\"val_loss\",\n",
    "    patience=2,\n",
    "    restore_best_weights=True\n",
    ")\n",
    "model.fit(\n",
    "    train_ds,\n",
    "    validation_data=val_ds,\n",
    "    epochs=EPOCHS,\n",
    "    callbacks=[ckpt, es]\n",
    ")"
   ]
  },
  {
   "cell_type": "code",
   "execution_count": 11,
   "id": "ff73b627",
   "metadata": {},
   "outputs": [
    {
     "name": "stdout",
     "output_type": "stream",
     "text": [
      "119/119 [==============================] - 12s 100ms/step - loss: 0.2540 - accuracy: 0.9189\n",
      "Test accuracy: 0.9189\n"
     ]
    }
   ],
   "source": [
    "\n",
    "# ────────────────────────────────────────────────────────────────────────────────\n",
    "# 6) Evaluate\n",
    "# ────────────────────────────────────────────────────────────────────────────────\n",
    "loss, acc = model.evaluate(test_ds)\n",
    "print(f\"Test accuracy: {acc:.4f}\")"
   ]
  },
  {
   "cell_type": "code",
   "execution_count": 12,
   "id": "fb3ff874",
   "metadata": {},
   "outputs": [
    {
     "name": "stdout",
     "output_type": "stream",
     "text": [
      "1/1 [==============================] - 2s 2s/step\n",
      "Sci/Tech (97.9%): NASA plans a new mission to Mars.\n",
      "1/1 [==============================] - 0s 30ms/step\n",
      "Business (90.5%): The stock market experienced a sharp decline today.\n"
     ]
    }
   ],
   "source": [
    "\n",
    "# ────────────────────────────────────────────────────────────────────────────────\n",
    "# 7) Demo Predictions\n",
    "# ────────────────────────────────────────────────────────────────────────────────\n",
    "def predict(text):\n",
    "    seq = vectorizer(tf.constant([text]))\n",
    "    probs = model.predict(seq)[0]\n",
    "    idx = int(tf.argmax(probs))\n",
    "    return CLASS_NAMES[idx], float(probs[idx])\n",
    "\n",
    "examples = [\n",
    "    \"NASA plans a new mission to Mars.\",\n",
    "    \"The stock market experienced a sharp decline today.\"\n",
    "]\n",
    "for ex in examples:\n",
    "    cls, conf = predict(ex)\n",
    "    print(f\"{cls} ({conf:.1%}): {ex}\")\n"
   ]
  }
 ],
 "metadata": {
  "kernelspec": {
   "display_name": "homl3",
   "language": "python",
   "name": "python3"
  },
  "language_info": {
   "codemirror_mode": {
    "name": "ipython",
    "version": 3
   },
   "file_extension": ".py",
   "mimetype": "text/x-python",
   "name": "python",
   "nbconvert_exporter": "python",
   "pygments_lexer": "ipython3",
   "version": "3.10.17"
  }
 },
 "nbformat": 4,
 "nbformat_minor": 5
}
