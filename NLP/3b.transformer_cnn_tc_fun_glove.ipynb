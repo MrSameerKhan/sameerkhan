{
 "cells": [
  {
   "cell_type": "code",
   "execution_count": 1,
   "id": "93e4ce40",
   "metadata": {},
   "outputs": [],
   "source": [
    "import pandas as pd\n",
    "import numpy as np\n",
    "import tensorflow as tf\n",
    "from tensorflow.keras import layers, Model, callbacks\n",
    "from sklearn.model_selection import train_test_split\n",
    "from tqdm import tqdm"
   ]
  },
  {
   "cell_type": "code",
   "execution_count": 2,
   "id": "02155898",
   "metadata": {},
   "outputs": [],
   "source": [
    "# ────────────────────────────────────────────────────────────────────────────────\n",
    "# 0) Hyperparameters & Constants\n",
    "# ────────────────────────────────────────────────────────────────────────────────\n",
    "MAX_VOCAB_SIZE    = 20000\n",
    "MAX_SEQUENCE_LEN  = 200\n",
    "EMBEDDING_DIM     = 300\n",
    "LSTM_UNITS        = 64\n",
    "BATCH_SIZE        = 64\n",
    "EPOCHS            = 1\n",
    "AUTOTUNE          = tf.data.AUTOTUNE\n",
    "NUM_CLASSES       = 4\n",
    "CLASS_NAMES       = [\"World\", \"Sports\", \"Business\", \"Sci/Tech\"]\n"
   ]
  },
  {
   "cell_type": "code",
   "execution_count": 3,
   "id": "b3fe4846",
   "metadata": {},
   "outputs": [],
   "source": [
    "# ────────────────────────────────────────────────────────────────────────────────\n",
    "# 1) Load & preprocess AG News CSVs\n",
    "# ────────────────────────────────────────────────────────────────────────────────\n",
    "train_df = pd.read_csv(\"D:/AIML/data/ag_news_train.csv\", header=None,\n",
    "                       names=[\"label\",\"title\",\"description\"])\n",
    "test_df  = pd.read_csv(\"D:/AIML/data/ag_news_test.csv\",  header=None,\n",
    "                       names=[\"label\",\"title\",\"description\"])\n",
    "train_df[\"label\"] -= 1\n",
    "test_df[\"label\"]  -= 1\n",
    "train_df[\"text\"] = train_df[\"title\"].str.cat(train_df[\"description\"], sep=\" \")\n",
    "test_df[\"text\"]  = test_df[\"title\"].str.cat(test_df[\"description\"], sep=\" \")\n"
   ]
  },
  {
   "cell_type": "code",
   "execution_count": 4,
   "id": "7ad24217",
   "metadata": {},
   "outputs": [],
   "source": [
    "# ────────────────────────────────────────────────────────────────────────────────\n",
    "# 2) Train/validation split\n",
    "# ────────────────────────────────────────────────────────────────────────────────\n",
    "train_texts, val_texts, train_labels, val_labels = train_test_split(\n",
    "    train_df[\"text\"].values,\n",
    "    train_df[\"label\"].values,\n",
    "    test_size=0.2,\n",
    "    random_state=42,\n",
    "    stratify=train_df[\"label\"].values\n",
    ")\n",
    "test_texts  = test_df[\"text\"].values\n",
    "test_labels = test_df[\"label\"].values\n"
   ]
  },
  {
   "cell_type": "code",
   "execution_count": 5,
   "id": "70f26251",
   "metadata": {},
   "outputs": [],
   "source": [
    "# ────────────────────────────────────────────────────────────────────────────────\n",
    "# 3) TextVectorization\n",
    "# ────────────────────────────────────────────────────────────────────────────────\n",
    "vectorizer = layers.TextVectorization(\n",
    "    max_tokens=MAX_VOCAB_SIZE,\n",
    "    output_mode=\"int\",\n",
    "    output_sequence_length=MAX_SEQUENCE_LEN\n",
    ")\n",
    "vectorizer.adapt(train_texts)\n",
    "\n",
    "def vectorize_text(text, label):\n",
    "    text = tf.expand_dims(text, -1)\n",
    "    token_ids = vectorizer(text)\n",
    "    return tf.squeeze(token_ids, axis=0), label\n",
    "\n",
    "def make_dataset(texts, labels, shuffle=False):\n",
    "    ds = tf.data.Dataset.from_tensor_slices((texts, labels))\n",
    "    if shuffle:\n",
    "        ds = ds.shuffle(len(texts), seed=42)\n",
    "    ds = ds.map(vectorize_text, num_parallel_calls=AUTOTUNE)\n",
    "    return ds.batch(BATCH_SIZE).prefetch(AUTOTUNE)\n",
    "\n",
    "train_ds = make_dataset(train_texts, train_labels, shuffle=True)\n",
    "val_ds   = make_dataset(val_texts,   val_labels)\n",
    "test_ds  = make_dataset(test_texts,  test_labels)"
   ]
  },
  {
   "cell_type": "code",
   "execution_count": 6,
   "id": "9a581b74",
   "metadata": {},
   "outputs": [
    {
     "name": "stderr",
     "output_type": "stream",
     "text": [
      "1917494it [02:10, 14742.52it/s]"
     ]
    },
    {
     "name": "stdout",
     "output_type": "stream",
     "text": [
      "Found 1917494 word vectors.\n"
     ]
    },
    {
     "name": "stderr",
     "output_type": "stream",
     "text": [
      "\n"
     ]
    }
   ],
   "source": [
    "embeddings_index = {}\n",
    "glovefile = open('D:/AIML/data/glove.42B.300d.txt','r',encoding='utf-8')\n",
    "for line in tqdm(glovefile):\n",
    "    values = line.split(\" \")\n",
    "    word = values[0]\n",
    "    coefs = np.asarray(values[1:], dtype='float32')\n",
    "    embeddings_index[word] = coefs\n",
    "glovefile.close()\n",
    "\n",
    "print('Found %s word vectors.' % len(embeddings_index))"
   ]
  },
  {
   "cell_type": "code",
   "execution_count": 7,
   "id": "9f2cd755",
   "metadata": {},
   "outputs": [],
   "source": [
    "# 1) Build the embedding matrix from your GloVe dict and vectorizer vocab\n",
    "vocab = vectorizer.get_vocabulary()  # list length ≥ MAX_VOCAB_SIZE\n",
    "vocab = vocab[:MAX_VOCAB_SIZE]       # truncate to exactly MAX_VOCAB_SIZE\n",
    "embedding_matrix = np.zeros((MAX_VOCAB_SIZE, EMBEDDING_DIM), dtype=\"float32\")\n",
    "\n",
    "for idx, word in enumerate(vocab):\n",
    "    vec = embeddings_index.get(word)\n",
    "    if vec is not None:\n",
    "        embedding_matrix[idx] = vec\n",
    "    # else leave zeros (or add small random noise)"
   ]
  },
  {
   "cell_type": "code",
   "execution_count": 8,
   "id": "6360fbeb",
   "metadata": {},
   "outputs": [],
   "source": [
    "text_inputs = layers.Input(shape=(MAX_SEQUENCE_LEN,),name=\"input_tokens\", dtype=\"int32\")\n",
    "embedding_layer = layers.Embedding(input_dim=MAX_VOCAB_SIZE, \n",
    "                                   output_dim=EMBEDDING_DIM,\n",
    "                                   input_length=MAX_SEQUENCE_LEN, \n",
    "                                   weights=[embedding_matrix], \n",
    "                                   trainable=False,\n",
    "                                   mask_zero =True)\n",
    "positional_embedding_layer = layers.Embedding(input_dim=MAX_SEQUENCE_LEN, output_dim=EMBEDDING_DIM, trainable=True)\n",
    "embedded_sequences = embedding_layer(text_inputs)\n",
    "\n",
    "positions = tf.range(start=0, limit=MAX_SEQUENCE_LEN, delta=1)\n",
    "positions = positional_embedding_layer(positions)\n",
    "\n",
    "embedded_sequences = embedded_sequences + positions\n",
    "\n",
    "\n",
    "num_heads = 2\n",
    "ff_dim =256\n",
    "\n",
    "attn = layers.MultiHeadAttention(num_heads=num_heads, key_dim=EMBEDDING_DIM)\n",
    "attn_out = attn(embedded_sequences, embedded_sequences)\n",
    "attn_out = layers.Dropout(0.5)(attn_out)\n",
    "attn_out_f = layers.LayerNormalization(axis=-1)(embedded_sequences + attn_out)\n",
    "\n",
    "ffn_out = layers.Dense(ff_dim, activation=\"relu\")(attn_out_f)\n",
    "ffn_out = layers.Dense(EMBEDDING_DIM)(ffn_out)\n",
    "ffn_out = layers.Dropout(0.5)(ffn_out)\n",
    "ffn_out_f = layers.LayerNormalization(axis=-1)(attn_out_f + ffn_out)\n",
    "\n",
    "conv41 = layers.Conv1D(filters=128, kernel_size=16, activation=\"relu\")(ffn_out_f)\n",
    "pool41 = layers.MaxPooling1D()(conv41)\n",
    "norm41 = layers.LayerNormalization(axis=-1)(pool41)\n",
    "conv42 = layers.Conv1D(filters=256, kernel_size=16, activation=\"relu\")(norm41)\n",
    "\n",
    "trans_pool1 = layers.GlobalAveragePooling1D()(conv42)\n",
    "trans_d = layers.Dense(256, activation=\"relu\")(trans_pool1)\n",
    "text_features = layers.Dropout(0.5, name=\"text_features\")(trans_d)\n",
    "\n",
    "text_features = layers.Dense(256, activation=\"relu\")(text_features)\n",
    "text_features = layers.LayerNormalization(axis=-1)(text_features)\n",
    "text_out = layers.Dense(NUM_CLASSES, activation=\"softmax\", name=\"text_out\")(text_features)\n",
    "\n",
    "model = Model(inputs=[text_inputs], outputs = [text_out] )\n",
    "\n",
    "\n"
   ]
  },
  {
   "cell_type": "code",
   "execution_count": 9,
   "id": "915c4576",
   "metadata": {},
   "outputs": [
    {
     "name": "stdout",
     "output_type": "stream",
     "text": [
      "Model: \"model\"\n",
      "__________________________________________________________________________________________________\n",
      " Layer (type)                Output Shape                 Param #   Connected to                  \n",
      "==================================================================================================\n",
      " input_tokens (InputLayer)   [(None, 200)]                0         []                            \n",
      "                                                                                                  \n",
      " embedding (Embedding)       (None, 200, 300)             6000000   ['input_tokens[0][0]']        \n",
      "                                                                                                  \n",
      " tf.math.add (TFOpLambda)    (None, 200, 300)             0         ['embedding[0][0]']           \n",
      "                                                                                                  \n",
      " multi_head_attention (Mult  (None, 200, 300)             722100    ['tf.math.add[0][0]',         \n",
      " iHeadAttention)                                                     'tf.math.add[0][0]']         \n",
      "                                                                                                  \n",
      " dropout (Dropout)           (None, 200, 300)             0         ['multi_head_attention[0][0]']\n",
      "                                                                                                  \n",
      " tf.__operators__.add (TFOp  (None, 200, 300)             0         ['tf.math.add[0][0]',         \n",
      " Lambda)                                                             'dropout[0][0]']             \n",
      "                                                                                                  \n",
      " layer_normalization (Layer  (None, 200, 300)             600       ['tf.__operators__.add[0][0]']\n",
      " Normalization)                                                                                   \n",
      "                                                                                                  \n",
      " dense (Dense)               (None, 200, 256)             77056     ['layer_normalization[0][0]'] \n",
      "                                                                                                  \n",
      " dense_1 (Dense)             (None, 200, 300)             77100     ['dense[0][0]']               \n",
      "                                                                                                  \n",
      " dropout_1 (Dropout)         (None, 200, 300)             0         ['dense_1[0][0]']             \n",
      "                                                                                                  \n",
      " tf.__operators__.add_1 (TF  (None, 200, 300)             0         ['layer_normalization[0][0]', \n",
      " OpLambda)                                                           'dropout_1[0][0]']           \n",
      "                                                                                                  \n",
      " layer_normalization_1 (Lay  (None, 200, 300)             600       ['tf.__operators__.add_1[0][0]\n",
      " erNormalization)                                                   ']                            \n",
      "                                                                                                  \n",
      " conv1d (Conv1D)             (None, 185, 128)             614528    ['layer_normalization_1[0][0]'\n",
      "                                                                    ]                             \n",
      "                                                                                                  \n",
      " max_pooling1d (MaxPooling1  (None, 92, 128)              0         ['conv1d[0][0]']              \n",
      " D)                                                                                               \n",
      "                                                                                                  \n",
      " layer_normalization_2 (Lay  (None, 92, 128)              256       ['max_pooling1d[0][0]']       \n",
      " erNormalization)                                                                                 \n",
      "                                                                                                  \n",
      " conv1d_1 (Conv1D)           (None, 77, 256)              524544    ['layer_normalization_2[0][0]'\n",
      "                                                                    ]                             \n",
      "                                                                                                  \n",
      " global_average_pooling1d (  (None, 256)                  0         ['conv1d_1[0][0]']            \n",
      " GlobalAveragePooling1D)                                                                          \n",
      "                                                                                                  \n",
      " dense_2 (Dense)             (None, 256)                  65792     ['global_average_pooling1d[0][\n",
      "                                                                    0]']                          \n",
      "                                                                                                  \n",
      " text_features (Dropout)     (None, 256)                  0         ['dense_2[0][0]']             \n",
      "                                                                                                  \n",
      " dense_3 (Dense)             (None, 256)                  65792     ['text_features[0][0]']       \n",
      "                                                                                                  \n",
      " layer_normalization_3 (Lay  (None, 256)                  512       ['dense_3[0][0]']             \n",
      " erNormalization)                                                                                 \n",
      "                                                                                                  \n",
      " text_out (Dense)            (None, 4)                    1028      ['layer_normalization_3[0][0]'\n",
      "                                                                    ]                             \n",
      "                                                                                                  \n",
      "==================================================================================================\n",
      "Total params: 8149908 (31.09 MB)\n",
      "Trainable params: 2149908 (8.20 MB)\n",
      "Non-trainable params: 6000000 (22.89 MB)\n",
      "__________________________________________________________________________________________________\n"
     ]
    }
   ],
   "source": [
    "\n",
    "model.compile(\n",
    "    optimizer=\"adam\",\n",
    "    loss=\"sparse_categorical_crossentropy\",\n",
    "    metrics=[\"accuracy\"]\n",
    ")\n",
    "model.summary()"
   ]
  },
  {
   "cell_type": "code",
   "execution_count": 10,
   "id": "1ea712a5",
   "metadata": {},
   "outputs": [
    {
     "name": "stdout",
     "output_type": "stream",
     "text": [
      "1500/1500 [==============================] - ETA: 0s - loss: 0.4214 - accuracy: 0.8479"
     ]
    },
    {
     "name": "stderr",
     "output_type": "stream",
     "text": [
      "d:\\Softwares\\anaconda\\envs\\homl3\\lib\\site-packages\\keras\\src\\engine\\training.py:3079: UserWarning: You are saving your model as an HDF5 file via `model.save()`. This file format is considered legacy. We recommend using instead the native Keras format, e.g. `model.save('my_model.keras')`.\n",
      "  saving_api.save_model(\n"
     ]
    },
    {
     "name": "stdout",
     "output_type": "stream",
     "text": [
      "1500/1500 [==============================] - 1515s 1s/step - loss: 0.4214 - accuracy: 0.8479 - val_loss: 0.2856 - val_accuracy: 0.9060\n"
     ]
    },
    {
     "data": {
      "text/plain": [
       "<keras.src.callbacks.History at 0x1fcbff1b400>"
      ]
     },
     "execution_count": 10,
     "metadata": {},
     "output_type": "execute_result"
    }
   ],
   "source": [
    "# ────────────────────────────────────────────────────────────────────────────────\n",
    "# 5) Train\n",
    "# ────────────────────────────────────────────────────────────────────────────────\n",
    "ckpt = callbacks.ModelCheckpoint(\n",
    "    \"D:/AIML/data/transformer_tc_fun_glove.h5\",\n",
    "    monitor=\"val_accuracy\",\n",
    "    save_best_only=True\n",
    ")\n",
    "es = callbacks.EarlyStopping(\n",
    "    monitor=\"val_loss\",\n",
    "    patience=2,\n",
    "    restore_best_weights=True\n",
    ")\n",
    "model.fit(\n",
    "    train_ds,\n",
    "    validation_data=val_ds,\n",
    "    epochs=EPOCHS,\n",
    "    callbacks=[ckpt, es]\n",
    ")"
   ]
  },
  {
   "cell_type": "code",
   "execution_count": 11,
   "id": "3a3111cc",
   "metadata": {},
   "outputs": [
    {
     "name": "stdout",
     "output_type": "stream",
     "text": [
      "119/119 [==============================] - 36s 304ms/step - loss: 0.3010 - accuracy: 0.8997\n",
      "Test accuracy: 0.8997\n"
     ]
    }
   ],
   "source": [
    "\n",
    "# ────────────────────────────────────────────────────────────────────────────────\n",
    "# 6) Evaluate\n",
    "# ────────────────────────────────────────────────────────────────────────────────\n",
    "loss, acc = model.evaluate(test_ds)\n",
    "print(f\"Test accuracy: {acc:.4f}\")"
   ]
  },
  {
   "cell_type": "code",
   "execution_count": null,
   "id": "4b8fe2c9",
   "metadata": {},
   "outputs": [],
   "source": []
  }
 ],
 "metadata": {
  "kernelspec": {
   "display_name": "homl3",
   "language": "python",
   "name": "python3"
  },
  "language_info": {
   "codemirror_mode": {
    "name": "ipython",
    "version": 3
   },
   "file_extension": ".py",
   "mimetype": "text/x-python",
   "name": "python",
   "nbconvert_exporter": "python",
   "pygments_lexer": "ipython3",
   "version": "3.10.17"
  }
 },
 "nbformat": 4,
 "nbformat_minor": 5
}
