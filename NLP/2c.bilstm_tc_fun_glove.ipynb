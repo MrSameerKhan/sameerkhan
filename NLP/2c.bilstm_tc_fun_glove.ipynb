{
 "cells": [
  {
   "cell_type": "code",
   "execution_count": 24,
   "id": "eab82d16",
   "metadata": {},
   "outputs": [],
   "source": [
    "import pandas as pd\n",
    "import numpy as np\n",
    "import tensorflow as tf\n",
    "from tensorflow.keras import layers, Model, callbacks\n",
    "from sklearn.model_selection import train_test_split\n",
    "from tqdm import tqdm"
   ]
  },
  {
   "cell_type": "code",
   "execution_count": null,
   "id": "129dbee8",
   "metadata": {},
   "outputs": [],
   "source": [
    "# ────────────────────────────────────────────────────────────────────────────────\n",
    "# 0) Hyperparameters & Constants\n",
    "# ────────────────────────────────────────────────────────────────────────────────\n",
    "MAX_VOCAB_SIZE    = 20000\n",
    "MAX_SEQUENCE_LEN  = 200\n",
    "EMBEDDING_DIM     = 300\n",
    "LSTM_UNITS        = 64\n",
    "BATCH_SIZE        = 64\n",
    "EPOCHS            = 1\n",
    "AUTOTUNE          = tf.data.AUTOTUNE\n",
    "NUM_CLASSES       = 4\n",
    "CLASS_NAMES       = [\"World\", \"Sports\", \"Business\", \"Sci/Tech\"]\n"
   ]
  },
  {
   "cell_type": "code",
   "execution_count": 26,
   "id": "029166fe",
   "metadata": {},
   "outputs": [],
   "source": [
    "# ────────────────────────────────────────────────────────────────────────────────\n",
    "# 1) Load & preprocess AG News CSVs\n",
    "# ────────────────────────────────────────────────────────────────────────────────\n",
    "train_df = pd.read_csv(\"D:/AIML/data/ag_news_train.csv\", header=None,\n",
    "                       names=[\"label\",\"title\",\"description\"])\n",
    "test_df  = pd.read_csv(\"D:/AIML/data/ag_news_test.csv\",  header=None,\n",
    "                       names=[\"label\",\"title\",\"description\"])\n",
    "train_df[\"label\"] -= 1\n",
    "test_df[\"label\"]  -= 1\n",
    "train_df[\"text\"] = train_df[\"title\"].str.cat(train_df[\"description\"], sep=\" \")\n",
    "test_df[\"text\"]  = test_df[\"title\"].str.cat(test_df[\"description\"], sep=\" \")\n"
   ]
  },
  {
   "cell_type": "code",
   "execution_count": 27,
   "id": "847a9579",
   "metadata": {},
   "outputs": [],
   "source": [
    "# ────────────────────────────────────────────────────────────────────────────────\n",
    "# 2) Train/validation split\n",
    "# ────────────────────────────────────────────────────────────────────────────────\n",
    "train_texts, val_texts, train_labels, val_labels = train_test_split(\n",
    "    train_df[\"text\"].values,\n",
    "    train_df[\"label\"].values,\n",
    "    test_size=0.2,\n",
    "    random_state=42,\n",
    "    stratify=train_df[\"label\"].values\n",
    ")\n",
    "test_texts  = test_df[\"text\"].values\n",
    "test_labels = test_df[\"label\"].values\n"
   ]
  },
  {
   "cell_type": "code",
   "execution_count": 28,
   "id": "fa72afe6",
   "metadata": {},
   "outputs": [],
   "source": [
    "# ────────────────────────────────────────────────────────────────────────────────\n",
    "# 3) TextVectorization\n",
    "# ────────────────────────────────────────────────────────────────────────────────\n",
    "vectorizer = layers.TextVectorization(\n",
    "    max_tokens=MAX_VOCAB_SIZE,\n",
    "    output_mode=\"int\",\n",
    "    output_sequence_length=MAX_SEQUENCE_LEN\n",
    ")\n",
    "vectorizer.adapt(train_texts)\n",
    "\n",
    "def vectorize_text(text, label):\n",
    "    text = tf.expand_dims(text, -1)\n",
    "    token_ids = vectorizer(text)\n",
    "    return tf.squeeze(token_ids, axis=0), label\n",
    "\n",
    "def make_dataset(texts, labels, shuffle=False):\n",
    "    ds = tf.data.Dataset.from_tensor_slices((texts, labels))\n",
    "    if shuffle:\n",
    "        ds = ds.shuffle(len(texts), seed=42)\n",
    "    ds = ds.map(vectorize_text, num_parallel_calls=AUTOTUNE)\n",
    "    return ds.batch(BATCH_SIZE).prefetch(AUTOTUNE)\n",
    "\n",
    "train_ds = make_dataset(train_texts, train_labels, shuffle=True)\n",
    "val_ds   = make_dataset(val_texts,   val_labels)\n",
    "test_ds  = make_dataset(test_texts,  test_labels)"
   ]
  },
  {
   "cell_type": "code",
   "execution_count": 29,
   "id": "17758335",
   "metadata": {},
   "outputs": [
    {
     "name": "stderr",
     "output_type": "stream",
     "text": [
      "1917494it [02:15, 14177.39it/s]\n"
     ]
    },
    {
     "name": "stdout",
     "output_type": "stream",
     "text": [
      "Found 1917494 word vectors.\n"
     ]
    }
   ],
   "source": [
    "embeddings_index = {}\n",
    "glovefile = open('D:/AIML/data/glove.42B.300d.txt','r',encoding='utf-8')\n",
    "for line in tqdm(glovefile):\n",
    "    values = line.split(\" \")\n",
    "    word = values[0]\n",
    "    coefs = np.asarray(values[1:], dtype='float32')\n",
    "    embeddings_index[word] = coefs\n",
    "glovefile.close()\n",
    "\n",
    "print('Found %s word vectors.' % len(embeddings_index))"
   ]
  },
  {
   "cell_type": "code",
   "execution_count": 30,
   "id": "d77c116c",
   "metadata": {},
   "outputs": [
    {
     "data": {
      "text/plain": [
       "' \\nembeddings_index[\"hello\"] = array([0.1,0.2,0.3], dtype=float32)\\n{\\n  \"hello\": array([ 0.1,  0.2,  0.3], dtype=float32),\\n  \"world\": array([ 0.4,  0.5,  0.6], dtype=float32),\\n  \"test\":  array([-0.1, 0.0,  0.1], dtype=float32)\\n}\\n\\n'"
      ]
     },
     "execution_count": 30,
     "metadata": {},
     "output_type": "execute_result"
    }
   ],
   "source": [
    "\"\"\" \n",
    "embeddings_index[\"hello\"] = array([0.1,0.2,0.3], dtype=float32)\n",
    "{\n",
    "  \"hello\": array([ 0.1,  0.2,  0.3], dtype=float32),\n",
    "  \"world\": array([ 0.4,  0.5,  0.6], dtype=float32),\n",
    "  \"test\":  array([-0.1, 0.0,  0.1], dtype=float32)\n",
    "}\n",
    "\n",
    "\"\"\""
   ]
  },
  {
   "cell_type": "code",
   "execution_count": 35,
   "id": "face5c4e",
   "metadata": {},
   "outputs": [],
   "source": [
    "# 1) Build the embedding matrix from your GloVe dict and vectorizer vocab\n",
    "vocab = vectorizer.get_vocabulary()  # list length ≥ MAX_VOCAB_SIZE\n",
    "vocab = vocab[:MAX_VOCAB_SIZE]       # truncate to exactly MAX_VOCAB_SIZE\n",
    "embedding_matrix = np.zeros((MAX_VOCAB_SIZE, EMBEDDING_DIM), dtype=\"float32\")\n",
    "\n",
    "for idx, word in enumerate(vocab):\n",
    "    vec = embeddings_index.get(word)\n",
    "    if vec is not None:\n",
    "        embedding_matrix[idx] = vec\n",
    "    # else leave zeros (or add small random noise)"
   ]
  },
  {
   "cell_type": "code",
   "execution_count": 37,
   "id": "b8e542d9",
   "metadata": {},
   "outputs": [],
   "source": [
    "text_inputs = layers.Input(shape=(MAX_SEQUENCE_LEN,),name=\"input_tokens\", dtype=\"int32\")\n",
    "embedding_layer = layers.Embedding(input_dim=MAX_VOCAB_SIZE, \n",
    "                                   output_dim=EMBEDDING_DIM,\n",
    "                                   input_length=MAX_SEQUENCE_LEN, \n",
    "                                   weights=[embedding_matrix], \n",
    "                                   trainable=False,\n",
    "                                   mask_zero =True)\n",
    "embedded_sequence = embedding_layer(text_inputs)\n",
    "\n",
    "# 3) Build the rest of the BiLSTM model\n",
    "lstm1 = layers.Bidirectional(layers.LSTM(LSTM_UNITS, return_sequences=True))(embedded_sequence)\n",
    "lstm2 = layers.Bidirectional(layers.LSTM(LSTM_UNITS))(lstm1)\n",
    "x     = layers.Dropout(0.5)(lstm2)\n",
    "x     = layers.Dense(64, activation=\"relu\")(x)\n",
    "x     = layers.Dropout(0.5)(x)\n",
    "out   = layers.Dense(NUM_CLASSES, activation=\"softmax\")(x)\n",
    "\n",
    "model = Model(inputs=text_inputs, outputs=out, name=\"bilstm_glove\")\n"
   ]
  },
  {
   "cell_type": "code",
   "execution_count": 38,
   "id": "0507782d",
   "metadata": {},
   "outputs": [
    {
     "name": "stdout",
     "output_type": "stream",
     "text": [
      "Model: \"bilstm_glove\"\n",
      "_________________________________________________________________\n",
      " Layer (type)                Output Shape              Param #   \n",
      "=================================================================\n",
      " input_tokens (InputLayer)   [(None, 200)]             0         \n",
      "                                                                 \n",
      " embedding_5 (Embedding)     (None, 200, 300)          6000000   \n",
      "                                                                 \n",
      " bidirectional (Bidirection  (None, 200, 128)          186880    \n",
      " al)                                                             \n",
      "                                                                 \n",
      " bidirectional_1 (Bidirecti  (None, 128)               98816     \n",
      " onal)                                                           \n",
      "                                                                 \n",
      " dropout (Dropout)           (None, 128)               0         \n",
      "                                                                 \n",
      " dense (Dense)               (None, 64)                8256      \n",
      "                                                                 \n",
      " dropout_1 (Dropout)         (None, 64)                0         \n",
      "                                                                 \n",
      " dense_1 (Dense)             (None, 4)                 260       \n",
      "                                                                 \n",
      "=================================================================\n",
      "Total params: 6294212 (24.01 MB)\n",
      "Trainable params: 294212 (1.12 MB)\n",
      "Non-trainable params: 6000000 (22.89 MB)\n",
      "_________________________________________________________________\n"
     ]
    }
   ],
   "source": [
    "\n",
    "model.compile(\n",
    "    optimizer=\"adam\",\n",
    "    loss=\"sparse_categorical_crossentropy\",\n",
    "    metrics=[\"accuracy\"]\n",
    ")\n",
    "model.summary()"
   ]
  },
  {
   "cell_type": "code",
   "execution_count": 39,
   "id": "6b6637f6",
   "metadata": {},
   "outputs": [
    {
     "name": "stdout",
     "output_type": "stream",
     "text": [
      "1500/1500 [==============================] - ETA: 0s - loss: 0.3535 - accuracy: 0.8856"
     ]
    },
    {
     "name": "stderr",
     "output_type": "stream",
     "text": [
      "d:\\Softwares\\anaconda\\envs\\homl3\\lib\\site-packages\\keras\\src\\engine\\training.py:3079: UserWarning: You are saving your model as an HDF5 file via `model.save()`. This file format is considered legacy. We recommend using instead the native Keras format, e.g. `model.save('my_model.keras')`.\n",
      "  saving_api.save_model(\n"
     ]
    },
    {
     "name": "stdout",
     "output_type": "stream",
     "text": [
      "1500/1500 [==============================] - 874s 573ms/step - loss: 0.3535 - accuracy: 0.8856 - val_loss: 0.2581 - val_accuracy: 0.9142\n"
     ]
    },
    {
     "data": {
      "text/plain": [
       "<keras.src.callbacks.History at 0x1af5e8f1180>"
      ]
     },
     "execution_count": 39,
     "metadata": {},
     "output_type": "execute_result"
    }
   ],
   "source": [
    "# ────────────────────────────────────────────────────────────────────────────────\n",
    "# 5) Train\n",
    "# ────────────────────────────────────────────────────────────────────────────────\n",
    "ckpt = callbacks.ModelCheckpoint(\n",
    "    \"D:/AIML/data/bilstm_tc_fun_glove.h5\",\n",
    "    monitor=\"val_accuracy\",\n",
    "    save_best_only=True\n",
    ")\n",
    "es = callbacks.EarlyStopping(\n",
    "    monitor=\"val_loss\",\n",
    "    patience=2,\n",
    "    restore_best_weights=True\n",
    ")\n",
    "model.fit(\n",
    "    train_ds,\n",
    "    validation_data=val_ds,\n",
    "    epochs=EPOCHS,\n",
    "    callbacks=[ckpt, es]\n",
    ")"
   ]
  },
  {
   "cell_type": "code",
   "execution_count": 40,
   "id": "58fb3fc9",
   "metadata": {},
   "outputs": [
    {
     "name": "stdout",
     "output_type": "stream",
     "text": [
      "119/119 [==============================] - 50s 420ms/step - loss: 0.2727 - accuracy: 0.9061\n",
      "Test accuracy: 0.9061\n"
     ]
    }
   ],
   "source": [
    "\n",
    "# ────────────────────────────────────────────────────────────────────────────────\n",
    "# 6) Evaluate\n",
    "# ────────────────────────────────────────────────────────────────────────────────\n",
    "loss, acc = model.evaluate(test_ds)\n",
    "print(f\"Test accuracy: {acc:.4f}\")"
   ]
  }
 ],
 "metadata": {
  "kernelspec": {
   "display_name": "homl3",
   "language": "python",
   "name": "python3"
  },
  "language_info": {
   "codemirror_mode": {
    "name": "ipython",
    "version": 3
   },
   "file_extension": ".py",
   "mimetype": "text/x-python",
   "name": "python",
   "nbconvert_exporter": "python",
   "pygments_lexer": "ipython3",
   "version": "3.10.17"
  }
 },
 "nbformat": 4,
 "nbformat_minor": 5
}
