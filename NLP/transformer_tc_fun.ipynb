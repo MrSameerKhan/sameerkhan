{
 "cells": [
  {
   "cell_type": "code",
   "execution_count": 1,
   "id": "4ca3cc58",
   "metadata": {},
   "outputs": [],
   "source": [
    "import pandas as pd\n",
    "import numpy as np\n",
    "import tensorflow as tf\n",
    "from tensorflow.keras import layers, Model, callbacks\n",
    "from sklearn.model_selection import train_test_split\n",
    "from tqdm import tqdm"
   ]
  },
  {
   "cell_type": "code",
   "execution_count": 2,
   "id": "d38ed09c",
   "metadata": {},
   "outputs": [],
   "source": [
    "# --- Hyperparameters ---\n",
    "MAX_SEQUENCE_LEN = 200\n",
    "MAX_VOCAB_SIZE = 20000\n",
    "NUM_CLASSES = 4\n",
    "NUM_HEADS = 4\n",
    "FF_DIM = 256\n",
    "DROPOUT_RATE = 0.1\n",
    "\n",
    "EMBEDDING_DIM     = 300\n",
    "LSTM_UNITS        = 64\n",
    "BATCH_SIZE        = 64\n",
    "EPOCHS            = 1\n",
    "AUTOTUNE          = tf.data.AUTOTUNE\n",
    "\n",
    "CLASS_NAMES       = [\"World\", \"Sports\", \"Business\", \"Sci/Tech\"]"
   ]
  },
  {
   "cell_type": "code",
   "execution_count": 3,
   "id": "a6244f94",
   "metadata": {},
   "outputs": [],
   "source": [
    "# ────────────────────────────────────────────────────────────────────────────────\n",
    "# 1) Load & preprocess AG News CSVs\n",
    "# ────────────────────────────────────────────────────────────────────────────────\n",
    "train_df = pd.read_csv(\"D:/AIML/data/ag_news_train.csv\", header=None,\n",
    "                       names=[\"label\",\"title\",\"description\"])\n",
    "test_df  = pd.read_csv(\"D:/AIML/data/ag_news_test.csv\",  header=None,\n",
    "                       names=[\"label\",\"title\",\"description\"])\n",
    "train_df[\"label\"] -= 1\n",
    "test_df[\"label\"]  -= 1\n",
    "train_df[\"text\"] = train_df[\"title\"].str.cat(train_df[\"description\"], sep=\" \")\n",
    "test_df[\"text\"]  = test_df[\"title\"].str.cat(test_df[\"description\"], sep=\" \")\n"
   ]
  },
  {
   "cell_type": "code",
   "execution_count": 4,
   "id": "907edec1",
   "metadata": {},
   "outputs": [],
   "source": [
    "# ────────────────────────────────────────────────────────────────────────────────\n",
    "# 2) Train/validation split\n",
    "# ────────────────────────────────────────────────────────────────────────────────\n",
    "train_texts, val_texts, train_labels, val_labels = train_test_split(\n",
    "    train_df[\"text\"].values,\n",
    "    train_df[\"label\"].values,\n",
    "    test_size=0.2,\n",
    "    random_state=42,\n",
    "    stratify=train_df[\"label\"].values\n",
    ")\n",
    "test_texts  = test_df[\"text\"].values\n",
    "test_labels = test_df[\"label\"].values\n"
   ]
  },
  {
   "cell_type": "code",
   "execution_count": 5,
   "id": "f3b848d2",
   "metadata": {},
   "outputs": [],
   "source": [
    "# ────────────────────────────────────────────────────────────────────────────────\n",
    "# 3) TextVectorization\n",
    "# ────────────────────────────────────────────────────────────────────────────────\n",
    "vectorizer = layers.TextVectorization(\n",
    "    max_tokens=MAX_VOCAB_SIZE,\n",
    "    output_mode=\"int\",\n",
    "    output_sequence_length=MAX_SEQUENCE_LEN\n",
    ")\n",
    "vectorizer.adapt(train_texts)\n",
    "\n",
    "def vectorize_text(text, label):\n",
    "    text = tf.expand_dims(text, -1)\n",
    "    token_ids = vectorizer(text)\n",
    "    return tf.squeeze(token_ids, axis=0), label\n",
    "\n",
    "def make_dataset(texts, labels, shuffle=False):\n",
    "    ds = tf.data.Dataset.from_tensor_slices((texts, labels))\n",
    "    if shuffle:\n",
    "        ds = ds.shuffle(len(texts), seed=42)\n",
    "    ds = ds.map(vectorize_text, num_parallel_calls=AUTOTUNE)\n",
    "    return ds.batch(BATCH_SIZE).prefetch(AUTOTUNE)\n",
    "\n",
    "train_ds = make_dataset(train_texts, train_labels, shuffle=True)\n",
    "val_ds   = make_dataset(val_texts,   val_labels)\n",
    "test_ds  = make_dataset(test_texts,  test_labels)"
   ]
  },
  {
   "cell_type": "code",
   "execution_count": 6,
   "id": "bc8411d2",
   "metadata": {},
   "outputs": [
    {
     "name": "stderr",
     "output_type": "stream",
     "text": [
      "1917494it [02:10, 14637.88it/s]"
     ]
    },
    {
     "name": "stdout",
     "output_type": "stream",
     "text": [
      "Found 1917494 word vectors.\n"
     ]
    },
    {
     "name": "stderr",
     "output_type": "stream",
     "text": [
      "\n"
     ]
    }
   ],
   "source": [
    "embeddings_index = {}\n",
    "glovefile = open('D:/AIML/data/glove.42B.300d.txt','r',encoding='utf-8')\n",
    "for line in tqdm(glovefile):\n",
    "    values = line.split(\" \")\n",
    "    word = values[0]\n",
    "    coefs = np.asarray(values[1:], dtype='float32')\n",
    "    embeddings_index[word] = coefs\n",
    "glovefile.close()\n",
    "\n",
    "print('Found %s word vectors.' % len(embeddings_index))"
   ]
  },
  {
   "cell_type": "code",
   "execution_count": 7,
   "id": "50c56c0e",
   "metadata": {},
   "outputs": [],
   "source": [
    "# 1) Build the embedding matrix from your GloVe dict and vectorizer vocab\n",
    "vocab = vectorizer.get_vocabulary()  # list length ≥ MAX_VOCAB_SIZE\n",
    "vocab = vocab[:MAX_VOCAB_SIZE]       # truncate to exactly MAX_VOCAB_SIZE\n",
    "embedding_matrix = np.zeros((MAX_VOCAB_SIZE, EMBEDDING_DIM), dtype=\"float32\")\n",
    "\n",
    "for idx, word in enumerate(vocab):\n",
    "    vec = embeddings_index.get(word)\n",
    "    if vec is not None:\n",
    "        embedding_matrix[idx] = vec\n",
    "    # else leave zeros (or add small random noise)"
   ]
  },
  {
   "cell_type": "code",
   "execution_count": 8,
   "id": "a0cdb949",
   "metadata": {},
   "outputs": [
    {
     "name": "stdout",
     "output_type": "stream",
     "text": [
      "Model: \"pure_transformer_text_classifier\"\n",
      "__________________________________________________________________________________________________\n",
      " Layer (type)                Output Shape                 Param #   Connected to                  \n",
      "==================================================================================================\n",
      " input_tokens (InputLayer)   [(None, 200)]                0         []                            \n",
      "                                                                                                  \n",
      " token_embedding (Embedding  (None, 200, 300)             6000000   ['input_tokens[0][0]']        \n",
      " )                                                                                                \n",
      "                                                                                                  \n",
      " tf.math.add (TFOpLambda)    (None, 200, 300)             0         ['token_embedding[0][0]']     \n",
      "                                                                                                  \n",
      " multihead_attention (Multi  (None, 200, 300)             1443900   ['tf.math.add[0][0]',         \n",
      " HeadAttention)                                                      'tf.math.add[0][0]']         \n",
      "                                                                                                  \n",
      " skip_connection_1 (Add)     (None, 200, 300)             0         ['tf.math.add[0][0]',         \n",
      "                                                                     'multihead_attention[0][0]'] \n",
      "                                                                                                  \n",
      " layer_norm_1 (LayerNormali  (None, 200, 300)             600       ['skip_connection_1[0][0]']   \n",
      " zation)                                                                                          \n",
      "                                                                                                  \n",
      " ffn_1 (Dense)               (None, 200, 256)             77056     ['layer_norm_1[0][0]']        \n",
      "                                                                                                  \n",
      " ffn_2 (Dense)               (None, 200, 300)             77100     ['ffn_1[0][0]']               \n",
      "                                                                                                  \n",
      " dropout (Dropout)           (None, 200, 300)             0         ['ffn_2[0][0]']               \n",
      "                                                                                                  \n",
      " skip_connection_2 (Add)     (None, 200, 300)             0         ['layer_norm_1[0][0]',        \n",
      "                                                                     'dropout[0][0]']             \n",
      "                                                                                                  \n",
      " layer_norm_2 (LayerNormali  (None, 200, 300)             600       ['skip_connection_2[0][0]']   \n",
      " zation)                                                                                          \n",
      "                                                                                                  \n",
      " global_avg_pool (GlobalAve  (None, 300)                  0         ['layer_norm_2[0][0]']        \n",
      " ragePooling1D)                                                                                   \n",
      "                                                                                                  \n",
      " final_dropout (Dropout)     (None, 300)                  0         ['global_avg_pool[0][0]']     \n",
      "                                                                                                  \n",
      " dense_relu (Dense)          (None, 128)                  38528     ['final_dropout[0][0]']       \n",
      "                                                                                                  \n",
      " dropout_1 (Dropout)         (None, 128)                  0         ['dense_relu[0][0]']          \n",
      "                                                                                                  \n",
      " classifier (Dense)          (None, 4)                    516       ['dropout_1[0][0]']           \n",
      "                                                                                                  \n",
      "==================================================================================================\n",
      "Total params: 7638300 (29.14 MB)\n",
      "Trainable params: 7638300 (29.14 MB)\n",
      "Non-trainable params: 0 (0.00 Byte)\n",
      "__________________________________________________________________________________________________\n"
     ]
    }
   ],
   "source": [
    "# --- Inputs ---\n",
    "text_inputs = layers.Input(shape=(MAX_SEQUENCE_LEN,), dtype=tf.int32, name=\"input_tokens\")\n",
    "\n",
    "# --- Embedding Layer (Token Embedding + Positional Embedding) ---\n",
    "# 1. Token embedding\n",
    "token_embedding = layers.Embedding(\n",
    "    input_dim=MAX_VOCAB_SIZE,\n",
    "    output_dim=EMBEDDING_DIM,\n",
    "    mask_zero=True,\n",
    "    name=\"token_embedding\"\n",
    ")(text_inputs)\n",
    "\n",
    "# 2. Positional embedding\n",
    "positions = tf.range(start=0, limit=MAX_SEQUENCE_LEN, delta=1)\n",
    "positions = layers.Embedding(\n",
    "    input_dim=MAX_SEQUENCE_LEN,\n",
    "    output_dim=EMBEDDING_DIM,\n",
    "    name=\"position_embedding\"\n",
    ")(positions)\n",
    "positions = tf.expand_dims(positions, axis=0)\n",
    "\n",
    "# 3. Add token + position embeddings\n",
    "x = token_embedding + positions\n",
    "\n",
    "# --- Transformer Encoder Block ---\n",
    "# 4. Multi-head self-attention\n",
    "attention_output = layers.MultiHeadAttention(\n",
    "    num_heads=NUM_HEADS,\n",
    "    key_dim=EMBEDDING_DIM,\n",
    "    dropout=DROPOUT_RATE,\n",
    "    name=\"multihead_attention\"\n",
    ")(x, x)\n",
    "\n",
    "# 5. Add & Norm\n",
    "x = layers.Add(name=\"skip_connection_1\")([x, attention_output])\n",
    "x = layers.LayerNormalization(epsilon=1e-6, name=\"layer_norm_1\")(x)\n",
    "\n",
    "# 6. Feed Forward Network\n",
    "ffn = layers.Dense(FF_DIM, activation=\"relu\", name=\"ffn_1\")(x)\n",
    "ffn = layers.Dense(EMBEDDING_DIM, name=\"ffn_2\")(ffn)\n",
    "ffn = layers.Dropout(DROPOUT_RATE)(ffn)\n",
    "\n",
    "# 7. Add & Norm\n",
    "x = layers.Add(name=\"skip_connection_2\")([x, ffn])\n",
    "x = layers.LayerNormalization(epsilon=1e-6, name=\"layer_norm_2\")(x)\n",
    "\n",
    "# --- Output Head ---\n",
    "# 8. Global pooling\n",
    "x = layers.GlobalAveragePooling1D(name=\"global_avg_pool\")(x)\n",
    "\n",
    "# 9. Classification head\n",
    "x = layers.Dropout(0.3, name=\"final_dropout\")(x)\n",
    "x = layers.Dense(128, activation=\"relu\", name=\"dense_relu\")(x)\n",
    "x = layers.Dropout(0.3)(x)\n",
    "outputs = layers.Dense(NUM_CLASSES, activation=\"softmax\", name=\"classifier\")(x)\n",
    "\n",
    "# --- Final Model ---\n",
    "pure_transformer_model = Model(inputs=text_inputs, outputs=outputs, name=\"pure_transformer_text_classifier\")\n",
    "\n",
    "pure_transformer_model.summary()\n"
   ]
  },
  {
   "cell_type": "code",
   "execution_count": 9,
   "id": "135a3f44",
   "metadata": {},
   "outputs": [],
   "source": [
    "model = pure_transformer_model"
   ]
  },
  {
   "cell_type": "code",
   "execution_count": 10,
   "id": "1118f0ca",
   "metadata": {},
   "outputs": [],
   "source": [
    "model.compile(\n",
    "    optimizer=\"adam\",\n",
    "    loss=\"sparse_categorical_crossentropy\",\n",
    "    metrics=[\"accuracy\"]\n",
    ")"
   ]
  },
  {
   "cell_type": "code",
   "execution_count": 11,
   "id": "2e6a78c2",
   "metadata": {},
   "outputs": [
    {
     "name": "stdout",
     "output_type": "stream",
     "text": [
      "1500/1500 [==============================] - ETA: 0s - loss: 1.3923 - accuracy: 0.2472"
     ]
    },
    {
     "name": "stderr",
     "output_type": "stream",
     "text": [
      "d:\\Softwares\\anaconda\\envs\\homl3\\lib\\site-packages\\keras\\src\\engine\\training.py:3079: UserWarning: You are saving your model as an HDF5 file via `model.save()`. This file format is considered legacy. We recommend using instead the native Keras format, e.g. `model.save('my_model.keras')`.\n",
      "  saving_api.save_model(\n"
     ]
    },
    {
     "name": "stdout",
     "output_type": "stream",
     "text": [
      "1500/1500 [==============================] - 1898s 1s/step - loss: 1.3923 - accuracy: 0.2472 - val_loss: 1.3863 - val_accuracy: 0.2500\n"
     ]
    },
    {
     "data": {
      "text/plain": [
       "<keras.src.callbacks.History at 0x2be2f86ad10>"
      ]
     },
     "execution_count": 11,
     "metadata": {},
     "output_type": "execute_result"
    }
   ],
   "source": [
    "# ────────────────────────────────────────────────────────────────────────────────\n",
    "# 5) Train\n",
    "# ────────────────────────────────────────────────────────────────────────────────\n",
    "ckpt = callbacks.ModelCheckpoint(\n",
    "    \"D:/AIML/data/transformer_tc_fun.h5\",\n",
    "    monitor=\"val_accuracy\",\n",
    "    save_best_only=True\n",
    ")\n",
    "es = callbacks.EarlyStopping(\n",
    "    monitor=\"val_loss\",\n",
    "    patience=2,\n",
    "    restore_best_weights=True\n",
    ")\n",
    "model.fit(\n",
    "    train_ds,\n",
    "    validation_data=val_ds,\n",
    "    epochs=EPOCHS,\n",
    "    callbacks=[ckpt, es]\n",
    ")"
   ]
  },
  {
   "cell_type": "code",
   "execution_count": 12,
   "id": "b3aee79d",
   "metadata": {},
   "outputs": [
    {
     "name": "stdout",
     "output_type": "stream",
     "text": [
      "119/119 [==============================] - 46s 388ms/step - loss: 1.3863 - accuracy: 0.2500\n",
      "Test accuracy: 0.2500\n"
     ]
    }
   ],
   "source": [
    "\n",
    "# ────────────────────────────────────────────────────────────────────────────────\n",
    "# 6) Evaluate\n",
    "# ────────────────────────────────────────────────────────────────────────────────\n",
    "loss, acc = model.evaluate(test_ds)\n",
    "print(f\"Test accuracy: {acc:.4f}\")"
   ]
  }
 ],
 "metadata": {
  "kernelspec": {
   "display_name": "homl3",
   "language": "python",
   "name": "python3"
  },
  "language_info": {
   "codemirror_mode": {
    "name": "ipython",
    "version": 3
   },
   "file_extension": ".py",
   "mimetype": "text/x-python",
   "name": "python",
   "nbconvert_exporter": "python",
   "pygments_lexer": "ipython3",
   "version": "3.10.17"
  }
 },
 "nbformat": 4,
 "nbformat_minor": 5
}
