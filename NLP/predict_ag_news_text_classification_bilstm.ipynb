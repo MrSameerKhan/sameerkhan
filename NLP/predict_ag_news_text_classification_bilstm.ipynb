{
 "cells": [
  {
   "cell_type": "code",
   "execution_count": 7,
   "id": "026a429c",
   "metadata": {},
   "outputs": [],
   "source": [
    "import tensorflow as tf\n",
    "from tensorflow.keras.layers import TextVectorization\n",
    "import numpy as np"
   ]
  },
  {
   "cell_type": "code",
   "execution_count": null,
   "id": "060093b8",
   "metadata": {},
   "outputs": [],
   "source": [
    "# ────────────────────────────────────────────────────────────────────────────────\n",
    "# Configuration — must match training\n",
    "# ────────────────────────────────────────────────────────────────────────────────\n",
    "MAX_SEQUENCE_LEN = 200\n",
    "CLASS_NAMES      = [\"World\", \"Sports\", \"Business\", \"Sci/Tech\"]\n",
    "MODEL_PATH       = \"D:/AIML/data/best_agnews_bilstm.h5\"\n",
    "VOCAB_PATH       = \"D:/AIML/data/agnews_vocab.txt\"\n",
    "# ─────────────────────────────────────────────────"
   ]
  },
  {
   "cell_type": "code",
   "execution_count": 9,
   "id": "0d1a94e4",
   "metadata": {},
   "outputs": [
    {
     "name": "stdout",
     "output_type": "stream",
     "text": [
      "Model: \"sequential\"\n",
      "_________________________________________________________________\n",
      " Layer (type)                Output Shape              Param #   \n",
      "=================================================================\n",
      " embedding (Embedding)       (None, 200, 128)          2560000   \n",
      "                                                                 \n",
      " bidirectional (Bidirection  (None, 128)               98816     \n",
      " al)                                                             \n",
      "                                                                 \n",
      " dropout (Dropout)           (None, 128)               0         \n",
      "                                                                 \n",
      " dense (Dense)               (None, 64)                8256      \n",
      "                                                                 \n",
      " dropout_1 (Dropout)         (None, 64)                0         \n",
      "                                                                 \n",
      " dense_1 (Dense)             (None, 4)                 260       \n",
      "                                                                 \n",
      "=================================================================\n",
      "Total params: 2667332 (10.18 MB)\n",
      "Trainable params: 2667332 (10.18 MB)\n",
      "Non-trainable params: 0 (0.00 Byte)\n",
      "_________________________________________________________________\n"
     ]
    }
   ],
   "source": [
    "# 1) Load your trained model\n",
    "model = tf.keras.models.load_model(MODEL_PATH)\n",
    "model.summary()"
   ]
  },
  {
   "cell_type": "code",
   "execution_count": 10,
   "id": "f2c40987",
   "metadata": {},
   "outputs": [],
   "source": [
    "# 2) Recreate the TextVectorization layer exactly as used in training\n",
    "vectorizer = TextVectorization(\n",
    "    output_mode=\"int\",\n",
    "    output_sequence_length=MAX_SEQUENCE_LEN\n",
    ")"
   ]
  },
  {
   "cell_type": "code",
   "execution_count": 11,
   "id": "189b5407",
   "metadata": {},
   "outputs": [],
   "source": [
    "# 3) Load and set the saved vocabulary\n",
    "with open(VOCAB_PATH, encoding=\"utf8\") as f:\n",
    "    vocab = [line.strip() for line in f if line.strip()]\n",
    "vectorizer.set_vocabulary(vocab)"
   ]
  },
  {
   "cell_type": "code",
   "execution_count": 12,
   "id": "5d572701",
   "metadata": {},
   "outputs": [],
   "source": [
    "# 4) Helper to turn raw string → integer sequence\n",
    "def encode(text: str) -> tf.Tensor:\n",
    "    # vectorizer expects a batch dimension\n",
    "    seq = vectorizer(tf.constant([text]))\n",
    "    return seq  # shape (1, MAX_SEQUENCE_LEN)"
   ]
  },
  {
   "cell_type": "code",
   "execution_count": 13,
   "id": "dee5d74d",
   "metadata": {},
   "outputs": [],
   "source": [
    "# 5) Prediction function\n",
    "def predict(text: str):\n",
    "    seq   = encode(text)               # (1, MAX_SEQUENCE_LEN)\n",
    "    probs = model.predict(seq)[0]      # (NUM_CLASSES,)\n",
    "    idx   = int(np.argmax(probs))      # predicted class index\n",
    "    return {\n",
    "        \"text\": text,\n",
    "        \"predicted_class\": CLASS_NAMES[idx],\n",
    "        \"confidence\": float(probs[idx]),\n",
    "        \"all_probs\": probs\n",
    "    }"
   ]
  },
  {
   "cell_type": "code",
   "execution_count": 14,
   "id": "cb0aa9ba",
   "metadata": {},
   "outputs": [
    {
     "name": "stdout",
     "output_type": "stream",
     "text": [
      "1/1 [==============================] - 2s 2s/step\n",
      "Text: NASA launches new rover to explore the surface of Mars.…\n",
      "  Predicted: Business  (confidence 50.2%)\n",
      "\n",
      "1/1 [==============================] - 0s 34ms/step\n",
      "Text: Manchester United secure a thrilling victory in the Premier League.…\n",
      "  Predicted: Business  (confidence 68.8%)\n",
      "\n",
      "1/1 [==============================] - 0s 33ms/step\n",
      "Text: Apple unveils its latest MacBook Pro with M-series chip.…\n",
      "  Predicted: World  (confidence 71.5%)\n",
      "\n",
      "1/1 [==============================] - 0s 33ms/step\n",
      "Text: Studies reveal rising global temperatures could affect crop yields.…\n",
      "  Predicted: Business  (confidence 88.8%)\n",
      "\n"
     ]
    }
   ],
   "source": [
    "# 6) Demo on a few examples\n",
    "examples = [\n",
    "    \"NASA launches new rover to explore the surface of Mars.\",\n",
    "    \"Manchester United secure a thrilling victory in the Premier League.\",\n",
    "    \"Apple unveils its latest MacBook Pro with M-series chip.\",\n",
    "    \"Studies reveal rising global temperatures could affect crop yields.\"\n",
    "]\n",
    "\n",
    "for ex in examples:\n",
    "    result = predict(ex)\n",
    "    print(f\"Text: {result['text'][:80]}…\")\n",
    "    print(f\"  Predicted: {result['predicted_class']}  \"\n",
    "          f\"(confidence {result['confidence']:.1%})\\n\")"
   ]
  },
  {
   "cell_type": "code",
   "execution_count": null,
   "id": "70551364",
   "metadata": {},
   "outputs": [],
   "source": []
  }
 ],
 "metadata": {
  "kernelspec": {
   "display_name": "homl3",
   "language": "python",
   "name": "python3"
  },
  "language_info": {
   "codemirror_mode": {
    "name": "ipython",
    "version": 3
   },
   "file_extension": ".py",
   "mimetype": "text/x-python",
   "name": "python",
   "nbconvert_exporter": "python",
   "pygments_lexer": "ipython3",
   "version": "3.10.17"
  }
 },
 "nbformat": 4,
 "nbformat_minor": 5
}
