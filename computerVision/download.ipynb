{
 "cells": [
  {
   "cell_type": "code",
   "execution_count": 1,
   "id": "a344dd39",
   "metadata": {},
   "outputs": [
    {
     "name": "stdout",
     "output_type": "stream",
     "text": [
      "Downloading data from https://storage.googleapis.com/tensorflow/keras-applications/resnet/resnet50_weights_tf_dim_ordering_tf_kernels_notop.h5\n",
      "94765736/94765736 [==============================] - 8s 0us/step\n",
      "✅ Downloaded to: D:/AIML/data\\resnet50_weights_tf_dim_ordering_tf_kernels_notop.h5\n"
     ]
    }
   ],
   "source": [
    "import tensorflow as tf\n",
    "\n",
    "# Correct file URL for TensorFlow format\n",
    "url = \"https://storage.googleapis.com/tensorflow/keras-applications/resnet/resnet50_weights_tf_dim_ordering_tf_kernels_notop.h5\"\n",
    "\n",
    "# Download and save\n",
    "path = tf.keras.utils.get_file(\n",
    "    \"resnet50_weights_tf_dim_ordering_tf_kernels_notop.h5\",\n",
    "    url,\n",
    "    cache_dir=\"D:/AIML/data\",\n",
    "    cache_subdir=\"\"\n",
    ")\n",
    "\n",
    "print(f\"✅ Downloaded to: {path}\")\n"
   ]
  },
  {
   "cell_type": "code",
   "execution_count": 2,
   "id": "6efc8503",
   "metadata": {},
   "outputs": [
    {
     "name": "stdout",
     "output_type": "stream",
     "text": [
      "Downloading data from https://github.com/fchollet/deep-learning-models/releases/download/v0.2/resnet50_weights_tf_dim_ordering_tf_kernels_notop.h5\n",
      "94653016/94653016 [==============================] - 7s 0us/step\n",
      "Downloaded weights to: D:/AIML/data\\.\\resnet50_weights_tf_dim_ordering_tf_kernels_notop.h5\n"
     ]
    }
   ],
   "source": [
    "import tensorflow as tf\n",
    "\n",
    "# Official ResNet50 “no top” weights URL on GitHub releases\n",
    "URL = (\n",
    "    \"https://github.com/fchollet/\"\n",
    "    \"deep-learning-models/releases/download/v0.2/\"\n",
    "    \"resnet50_weights_tf_dim_ordering_tf_kernels_notop.h5\"\n",
    ")\n",
    "\n",
    "# This will download into D:/AIML/data (creating it if necessary) and return the local path\n",
    "weights_path = tf.keras.utils.get_file(\n",
    "    fname=\"resnet50_weights_tf_dim_ordering_tf_kernels_notop.h5\",\n",
    "    origin=URL,\n",
    "    cache_dir=\"D:/AIML/data\",\n",
    "    cache_subdir=\".\",\n",
    "    extract=False\n",
    ")\n",
    "\n",
    "print(\"Downloaded weights to:\", weights_path)\n"
   ]
  },
  {
   "cell_type": "code",
   "execution_count": null,
   "id": "dd5afab0",
   "metadata": {},
   "outputs": [],
   "source": []
  }
 ],
 "metadata": {
  "kernelspec": {
   "display_name": "homl3",
   "language": "python",
   "name": "python3"
  },
  "language_info": {
   "codemirror_mode": {
    "name": "ipython",
    "version": 3
   },
   "file_extension": ".py",
   "mimetype": "text/x-python",
   "name": "python",
   "nbconvert_exporter": "python",
   "pygments_lexer": "ipython3",
   "version": "3.10.17"
  }
 },
 "nbformat": 4,
 "nbformat_minor": 5
}
