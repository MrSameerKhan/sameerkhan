{
 "cells": [
  {
   "cell_type": "code",
   "execution_count": 2,
   "id": "de836b72",
   "metadata": {},
   "outputs": [],
   "source": [
    "# --------------------------------------------\n",
    "# 1. Import Libraries\n",
    "# --------------------------------------------\n",
    "import tensorflow as tf\n",
    "from tensorflow.keras import layers, models\n",
    "from tensorflow.keras.optimizers import Adam\n",
    "from tensorflow.keras.callbacks import EarlyStopping, ModelCheckpoint\n",
    "import numpy as np\n",
    "import matplotlib.pyplot as plt"
   ]
  },
  {
   "cell_type": "code",
   "execution_count": 3,
   "id": "29a04af0",
   "metadata": {},
   "outputs": [
    {
     "name": "stdout",
     "output_type": "stream",
     "text": [
      "(60000, 28, 28)\n",
      "(60000,)\n",
      "(10000, 28, 28)\n",
      "(10000,)\n"
     ]
    }
   ],
   "source": [
    "# --------------------------------------------\n",
    "# 2. Load and Preprocess Data\n",
    "# --------------------------------------------\n",
    "# Load MNIST dataset from Keras\n",
    "(x_train, y_train), (x_test, y_test) = tf.keras.datasets.mnist.load_data()\n",
    "\n",
    "print(x_train.shape)\n",
    "print(y_train.shape)\n",
    "print(x_test.shape)\n",
    "print(y_test.shape)"
   ]
  },
  {
   "cell_type": "code",
   "execution_count": 4,
   "id": "90841af5",
   "metadata": {},
   "outputs": [
    {
     "data": {
      "text/plain": [
       "array([0, 0, 0, 0, 0, 0, 0, 0, 0, 0, 0, 0, 0, 0, 0, 0, 0, 0, 0, 0, 0, 0,\n",
       "       0, 0, 0, 0, 0, 0], dtype=uint8)"
      ]
     },
     "execution_count": 4,
     "metadata": {},
     "output_type": "execute_result"
    }
   ],
   "source": [
    "x_train[0][0]"
   ]
  },
  {
   "cell_type": "code",
   "execution_count": 5,
   "id": "05f010c8",
   "metadata": {},
   "outputs": [
    {
     "data": {
      "text/plain": [
       "5"
      ]
     },
     "execution_count": 5,
     "metadata": {},
     "output_type": "execute_result"
    }
   ],
   "source": [
    "(y_train[0])"
   ]
  },
  {
   "cell_type": "code",
   "execution_count": 6,
   "id": "dd08baf1",
   "metadata": {},
   "outputs": [
    {
     "data": {
      "image/png": "[encoded data removed]",
      "text/plain": [
       "<Figure size 640x480 with 1 Axes>"
      ]
     },
     "metadata": {},
     "output_type": "display_data"
    }
   ],
   "source": [
    "# Display the first training image\n",
    "plt.imshow(x_train[0], cmap='gray')\n",
    "plt.title(f\"Label: {y_train[0]}\")\n",
    "plt.axis('off')  # Hide axes for better viewing\n",
    "plt.show()"
   ]
  },
  {
   "cell_type": "code",
   "execution_count": 7,
   "id": "3ccc8971",
   "metadata": {},
   "outputs": [
    {
     "name": "stdout",
     "output_type": "stream",
     "text": [
      "(28, 28)\n"
     ]
    },
    {
     "data": {
      "image/png": "[encoded data removed]",
      "text/plain": [
       "<Figure size 640x480 with 1 Axes>"
      ]
     },
     "metadata": {},
     "output_type": "display_data"
    },
    {
     "data": {
      "text/plain": [
       "'\\n\\t•\\tShape (28, 28):\\nThis creates a 2-dimensional NumPy array where there are 28 rows and 28 columns. \\nEach element in this array is a pixel value.\\n\\t•\\tWhat It Represents:\\nIn the context of images, a 2D array is typically used for grayscale images. \\nEach number in the array (an 8-bit unsigned integer, uint8) represents the intensity of that pixel on a scale \\nfrom 0 (black) to 255 (white).\\n\\n\\ndummy_image = [\\n    [ 12,  35,  70,  ...,  90],   <- Row 0: each number is the pixel intensity (0 - 255)\\n    [100,  45,  30,  ..., 120],   <- Row 1\\n    [  0, 255,  90,  ...,  60],\\n    ...,\\n    [ 45,  85,  20,  ...,  33]    <- Row 27\\n]\\n\\n'"
      ]
     },
     "execution_count": 7,
     "metadata": {},
     "output_type": "execute_result"
    }
   ],
   "source": [
    "import numpy as np\n",
    "import matplotlib.pyplot as plt\n",
    "\n",
    "# Create a 28x28 array with random integers between 0 and 255\n",
    "dummy_image = np.random.randint(0, 256, (28, 28), dtype=np.uint8)\n",
    "print(dummy_image.shape)  # Should print: (28, 28)\n",
    "\n",
    "plt.imshow(dummy_image, cmap='gray')\n",
    "plt.title(\"Dummy Random Image\")\n",
    "plt.axis('off')\n",
    "plt.show()\n",
    "\n",
    "\"\"\"\n",
    "\t•\tShape (28, 28):\n",
    "This creates a 2-dimensional NumPy array where there are 28 rows and 28 columns. \n",
    "Each element in this array is a pixel value.\n",
    "\t•\tWhat It Represents:\n",
    "In the context of images, a 2D array is typically used for grayscale images. \n",
    "Each number in the array (an 8-bit unsigned integer, uint8) represents the intensity of that pixel on a scale \n",
    "from 0 (black) to 255 (white).\n",
    "\n",
    "\n",
    "dummy_image = [\n",
    "    [ 12,  35,  70,  ...,  90],   <- Row 0: each number is the pixel intensity (0 - 255)\n",
    "    [100,  45,  30,  ..., 120],   <- Row 1\n",
    "    [  0, 255,  90,  ...,  60],\n",
    "    ...,\n",
    "    [ 45,  85,  20,  ...,  33]    <- Row 27\n",
    "]\n",
    "\n",
    "\"\"\""
   ]
  },
  {
   "cell_type": "code",
   "execution_count": 8,
   "id": "1c2da285",
   "metadata": {},
   "outputs": [
    {
     "name": "stdout",
     "output_type": "stream",
     "text": [
      "Shape of dummy_rgb: (28, 28, 3)\n"
     ]
    },
    {
     "data": {
      "image/png": "[encoded data removed]",
      "text/plain": [
       "<Figure size 640x480 with 1 Axes>"
      ]
     },
     "metadata": {},
     "output_type": "display_data"
    },
    {
     "data": {
      "text/plain": [
       "'\\n\\t•\\tShape (28, 28, 3):\\nThis creates a 3-dimensional NumPy array. The shape indicates that the image is 28 pixels high, 28 pixels wide, \\nand has 3 channels.\\n\\t•\\tWhat It Represents:\\nIn color images (RGB images), the 3 in the shape stands for the three color channels:\\n\\t•\\tChannel 1: Red\\n\\t•\\tChannel 2: Green\\n\\t•\\tChannel 3: Blue\\nEach pixel is represented by a triplet of values (one for each channel) with each value ranging from 0 to 255. \\nThis gives the full color information needed to display an image.\\n\\n\\ndummy_rgb = [\\n    [ [123,  10,  45], [255, 200,  75], ..., [ 34,  50,  90] ],  <- Row 0  [R0, G0, B0]\\n    [ [  5,  80,  60], [ 12,  25, 130], ..., [210, 190,  50] ],  <- Row 1  [R1, G1, B1]\\n    ...,\\n    [ [ 45, 100,  25], [100, 110, 120], ..., [  0,  50,  75] ]   <- Row 27\\n]\\n\\n\\nRow 0\\nShape of dummy_rgb[0]: (28, 3)\\nContents of dummy_rgb[0]:\\n\\n[[ 42 108 175]\\n [121  73 240]\\n [ 42  16  11]\\n [200  95 206]\\n [ 50  50 201]\\n [ 49  52  31]\\n [ 90 163 182]\\n [214 204  53]\\n [ 84 246 156]\\n [231 216 249]\\n [151 223  40]\\n [174 237  81]\\n [158  85 173]\\n [130 123 178]\\n [106  93 127]\\n [200 113 170]\\n [119 175  65]\\n [234 161 185]\\n [ 12 223  96]\\n [ 73 186 127]\\n [131 209 119]\\n [148  51 195]\\n [157 217 133]\\n [ 66  68   0]\\n [187  83   7]\\n [ 32   6 229]\\n [105 122  36]\\n [ 43 194  73]]\\n\\n'"
      ]
     },
     "execution_count": 8,
     "metadata": {},
     "output_type": "execute_result"
    }
   ],
   "source": [
    "import numpy as np\n",
    "import matplotlib.pyplot as plt\n",
    "\n",
    "# Create a random RGB image: shape (height, width, 3)\n",
    "dummy_rgb = np.random.randint(0, 256, (28, 28, 3), dtype=np.uint8)\n",
    "\n",
    "# Print the shape to verify\n",
    "print(\"Shape of dummy_rgb:\", dummy_rgb.shape)  # Should be (28, 28, 3)\n",
    "\n",
    "# Display the image using matplotlib\n",
    "plt.imshow(dummy_rgb[0])\n",
    "plt.title(\"Random RGB Image\")\n",
    "plt.axis('off')  # Hide the axis\n",
    "plt.show()\n",
    "\n",
    "\"\"\"\n",
    "\t•\tShape (28, 28, 3):\n",
    "This creates a 3-dimensional NumPy array. The shape indicates that the image is 28 pixels high, 28 pixels wide, \n",
    "and has 3 channels.\n",
    "\t•\tWhat It Represents:\n",
    "In color images (RGB images), the 3 in the shape stands for the three color channels:\n",
    "\t•\tChannel 1: Red\n",
    "\t•\tChannel 2: Green\n",
    "\t•\tChannel 3: Blue\n",
    "Each pixel is represented by a triplet of values (one for each channel) with each value ranging from 0 to 255. \n",
    "This gives the full color information needed to display an image.\n",
    "\n",
    "\n",
    "dummy_rgb = [\n",
    "    [ [123,  10,  45], [255, 200,  75], ..., [ 34,  50,  90] ],  <- Row 0  [R0, G0, B0]\n",
    "    [ [  5,  80,  60], [ 12,  25, 130], ..., [210, 190,  50] ],  <- Row 1  [R1, G1, B1]\n",
    "    ...,\n",
    "    [ [ 45, 100,  25], [100, 110, 120], ..., [  0,  50,  75] ]   <- Row 27\n",
    "]\n",
    "\n",
    "\n",
    "Row 0\n",
    "Shape of dummy_rgb[0]: (28, 3)\n",
    "Contents of dummy_rgb[0]:\n",
    "\n",
    "[[ 42 108 175]\n",
    " [121  73 240]\n",
    " [ 42  16  11]\n",
    " [200  95 206]\n",
    " [ 50  50 201]\n",
    " [ 49  52  31]\n",
    " [ 90 163 182]\n",
    " [214 204  53]\n",
    " [ 84 246 156]\n",
    " [231 216 249]\n",
    " [151 223  40]\n",
    " [174 237  81]\n",
    " [158  85 173]\n",
    " [130 123 178]\n",
    " [106  93 127]\n",
    " [200 113 170]\n",
    " [119 175  65]\n",
    " [234 161 185]\n",
    " [ 12 223  96]\n",
    " [ 73 186 127]\n",
    " [131 209 119]\n",
    " [148  51 195]\n",
    " [157 217 133]\n",
    " [ 66  68   0]\n",
    " [187  83   7]\n",
    " [ 32   6 229]\n",
    " [105 122  36]\n",
    " [ 43 194  73]]\n",
    "\n",
    "\"\"\""
   ]
  },
  {
   "cell_type": "code",
   "execution_count": 9,
   "id": "a6cc1832",
   "metadata": {},
   "outputs": [
    {
     "data": {
      "text/plain": [
       "'\\nHow to Understand Multi-dimensional Arrays\\n\\t•\\tDimensions:\\nIn NumPy, the “dimensions” of an array are defined by its shape:\\n\\t•\\tA shape of (28, 28) means it is a 2D array (matrix) — like a grid with rows and columns.\\n\\t•\\tA shape of (28, 28, 3) means it is a 3D array. You can think of it as a stack of 2D arrays (one for each channel).\\n\\t•\\tVisualization:\\n\\t•\\tFor dummy_image (2D array), each element corresponds directly to a pixel’s grayscale intensity.\\n\\t•\\tFor dummy_rgb (3D array), you can imagine it as three separate 28x28 matrices—one for red, one for green, and one for blue. The image is then created by combining these three matrices.\\n    \\n    \\n\\ndummy_rgb = np.random.randint(0, 256, (28, 28, 3), dtype=np.uint8)\\nThis creates a 3D array with shape (28, 28, 3) where:\\n\\t•\\tThe first dimension (28) represents the rows (or height).\\n\\t•\\tThe second dimension (28) represents the columns (or width).\\n\\t•\\tThe third dimension (3) represents the color channels (Red, Green, Blue).\\n\\n\\n1. dummy_rgb\\n\\t•\\tWhat it does:\\nThis is the full RGB image array.\\n\\t•\\tResult:\\nIt returns a 3D array with shape (28, 28, 3).\\n\\t•\\tInterpretation:\\nIt represents the entire image where every pixel has three values (R, G, B).\\n\\n\\n2. dummy_rgb[0]\\n\\t•\\tWhat it does:\\nThis slices the array along the first dimension and returns the entire first row.\\n\\t•\\tResult:\\nIt gives you a 2D array of shape (28, 3).\\n\\t•\\tInterpretation:\\nEach of the 28 elements (i.e., each pixel in that row) is itself a 1D array of 3 elements representing the RGB values.\\n\\n[[R0, G0, B0],\\n [R1, G1, B1],\\n ...\\n [R27, G27, B27]]\\n\\n\\n 3. dummy_rgb[0][0]\\n\\t•\\tWhat it does:\\nThis expression is equivalent to accessing dummy_rgb[0, 0].\\n\\t•\\tResult:\\nIt gives you the pixel at the first row and first column.\\n\\t•\\tInterpretation:\\nThe result is a 1D NumPy array with 3 elements, for example [R, G, B], where each element is an integer between 0 and 255.\\n\\t•\\tExample:\\nIf it outputs [123, 45, 67], that means the pixel at position (0, 0) has an R value of 123, a G value of 45, \\nand a B value of 67.\\n\\n\\t•\\t2D Array (Grayscale Image):\\nImagine a chessboard with 28 rows and 28 columns. Each square holds a single number representing its shade (black, gray, or white).\\n\\t•\\t3D Array (RGB Image):\\nNow imagine the same 28×28 grid, but instead of each square holding a single number, each square contains three numbers. These three numbers determine the color:\\n\\t•\\tThe first number controls how red it is.\\n\\t•\\tThe second number controls the green component.\\n\\t•\\tThe third number controls the blue component.\\nTogether, these three values combine to form the final color of each pixel.\\n\\n\\n'"
      ]
     },
     "execution_count": 9,
     "metadata": {},
     "output_type": "execute_result"
    }
   ],
   "source": [
    "\"\"\"\n",
    "How to Understand Multi-dimensional Arrays\n",
    "\t•\tDimensions:\n",
    "In NumPy, the “dimensions” of an array are defined by its shape:\n",
    "\t•\tA shape of (28, 28) means it is a 2D array (matrix) — like a grid with rows and columns.\n",
    "\t•\tA shape of (28, 28, 3) means it is a 3D array. You can think of it as a stack of 2D arrays (one for each channel).\n",
    "\t•\tVisualization:\n",
    "\t•\tFor dummy_image (2D array), each element corresponds directly to a pixel’s grayscale intensity.\n",
    "\t•\tFor dummy_rgb (3D array), you can imagine it as three separate 28x28 matrices—one for red, one for green, and one for blue. The image is then created by combining these three matrices.\n",
    "    \n",
    "    \n",
    "\n",
    "dummy_rgb = np.random.randint(0, 256, (28, 28, 3), dtype=np.uint8)\n",
    "This creates a 3D array with shape (28, 28, 3) where:\n",
    "\t•\tThe first dimension (28) represents the rows (or height).\n",
    "\t•\tThe second dimension (28) represents the columns (or width).\n",
    "\t•\tThe third dimension (3) represents the color channels (Red, Green, Blue).\n",
    "\n",
    "\n",
    "1. dummy_rgb\n",
    "\t•\tWhat it does:\n",
    "This is the full RGB image array.\n",
    "\t•\tResult:\n",
    "It returns a 3D array with shape (28, 28, 3).\n",
    "\t•\tInterpretation:\n",
    "It represents the entire image where every pixel has three values (R, G, B).\n",
    "\n",
    "\n",
    "2. dummy_rgb[0]\n",
    "\t•\tWhat it does:\n",
    "This slices the array along the first dimension and returns the entire first row.\n",
    "\t•\tResult:\n",
    "It gives you a 2D array of shape (28, 3).\n",
    "\t•\tInterpretation:\n",
    "Each of the 28 elements (i.e., each pixel in that row) is itself a 1D array of 3 elements representing the RGB values.\n",
    "\n",
    "[[R0, G0, B0],\n",
    " [R1, G1, B1],\n",
    " ...\n",
    " [R27, G27, B27]]\n",
    "\n",
    "\n",
    " 3. dummy_rgb[0][0]\n",
    "\t•\tWhat it does:\n",
    "This expression is equivalent to accessing dummy_rgb[0, 0].\n",
    "\t•\tResult:\n",
    "It gives you the pixel at the first row and first column.\n",
    "\t•\tInterpretation:\n",
    "The result is a 1D NumPy array with 3 elements, for example [R, G, B], where each element is an integer between 0 and 255.\n",
    "\t•\tExample:\n",
    "If it outputs [123, 45, 67], that means the pixel at position (0, 0) has an R value of 123, a G value of 45, \n",
    "and a B value of 67.\n",
    "\n",
    "\t•\t2D Array (Grayscale Image):\n",
    "Imagine a chessboard with 28 rows and 28 columns. Each square holds a single number representing its shade (black, gray, or white).\n",
    "\t•\t3D Array (RGB Image):\n",
    "Now imagine the same 28×28 grid, but instead of each square holding a single number, each square contains three numbers. These three numbers determine the color:\n",
    "\t•\tThe first number controls how red it is.\n",
    "\t•\tThe second number controls the green component.\n",
    "\t•\tThe third number controls the blue component.\n",
    "Together, these three values combine to form the final color of each pixel.\n",
    "\n",
    "\n",
    "\"\"\"\n"
   ]
  },
  {
   "cell_type": "code",
   "execution_count": 10,
   "id": "755c2f37",
   "metadata": {},
   "outputs": [
    {
     "name": "stdout",
     "output_type": "stream",
     "text": [
      "[0. 0. 0. 0. 0. 0. 0. 0. 0. 0. 0. 0. 0. 0. 0. 0. 0. 0. 0. 0. 0. 0. 0. 0.\n",
      " 0. 0. 0. 0.]\n"
     ]
    },
    {
     "data": {
      "text/plain": [
       "<matplotlib.image.AxesImage at 0x31993f5e0>"
      ]
     },
     "execution_count": 10,
     "metadata": {},
     "output_type": "execute_result"
    },
    {
     "data": {
      "image/png": "[encoded data removed]",
      "text/plain": [
       "<Figure size 640x480 with 1 Axes>"
      ]
     },
     "metadata": {},
     "output_type": "display_data"
    }
   ],
   "source": [
    "# Normalize pixel values to be between 0 and 1\n",
    "x_train = x_train.astype(\"float32\") / 255.0\n",
    "x_test = x_test.astype(\"float32\") / 255.0\n",
    "\n",
    "print(x_train[0][0])\n",
    "\n",
    "plt.imshow(x_train[0], cmap=\"gray\")"
   ]
  },
  {
   "cell_type": "code",
   "execution_count": 11,
   "id": "45b1351c",
   "metadata": {},
   "outputs": [
    {
     "name": "stdout",
     "output_type": "stream",
     "text": [
      "(60000, 784)\n",
      "(784,)\n",
      "()\n",
      "[0.         0.         0.         0.         0.         0.\n",
      " 0.         0.         0.         0.         0.         0.\n",
      " 0.         0.         0.         0.         0.         0.\n",
      " 0.         0.         0.         0.         0.         0.\n",
      " 0.         0.         0.         0.         0.         0.\n",
      " 0.         0.         0.         0.         0.         0.\n",
      " 0.         0.         0.         0.         0.         0.\n",
      " 0.         0.         0.         0.         0.         0.\n",
      " 0.         0.         0.         0.         0.         0.\n",
      " 0.         0.         0.         0.         0.         0.\n",
      " 0.         0.         0.         0.         0.         0.\n",
      " 0.         0.         0.         0.         0.         0.\n",
      " 0.         0.         0.         0.         0.         0.\n",
      " 0.         0.         0.         0.         0.         0.\n",
      " 0.         0.         0.         0.         0.         0.\n",
      " 0.         0.         0.         0.         0.         0.\n",
      " 0.         0.         0.         0.         0.         0.\n",
      " 0.         0.         0.         0.         0.         0.\n",
      " 0.         0.         0.         0.         0.         0.\n",
      " 0.         0.         0.         0.         0.         0.\n",
      " 0.         0.         0.         0.         0.         0.\n",
      " 0.         0.         0.         0.         0.         0.\n",
      " 0.         0.         0.         0.         0.         0.\n",
      " 0.         0.         0.         0.         0.         0.\n",
      " 0.         0.         0.         0.         0.         0.\n",
      " 0.         0.         0.01176471 0.07058824 0.07058824 0.07058824\n",
      " 0.49411765 0.53333336 0.6862745  0.10196079 0.6509804  1.\n",
      " 0.96862745 0.49803922 0.         0.         0.         0.\n",
      " 0.         0.         0.         0.         0.         0.\n",
      " 0.         0.         0.11764706 0.14117648 0.36862746 0.6039216\n",
      " 0.6666667  0.99215686 0.99215686 0.99215686 0.99215686 0.99215686\n",
      " 0.88235295 0.6745098  0.99215686 0.9490196  0.7647059  0.2509804\n",
      " 0.         0.         0.         0.         0.         0.\n",
      " 0.         0.         0.         0.         0.         0.19215687\n",
      " 0.93333334 0.99215686 0.99215686 0.99215686 0.99215686 0.99215686\n",
      " 0.99215686 0.99215686 0.99215686 0.9843137  0.3647059  0.32156864\n",
      " 0.32156864 0.21960784 0.15294118 0.         0.         0.\n",
      " 0.         0.         0.         0.         0.         0.\n",
      " 0.         0.         0.         0.07058824 0.85882354 0.99215686\n",
      " 0.99215686 0.99215686 0.99215686 0.99215686 0.7764706  0.7137255\n",
      " 0.96862745 0.94509804 0.         0.         0.         0.\n",
      " 0.         0.         0.         0.         0.         0.\n",
      " 0.         0.         0.         0.         0.         0.\n",
      " 0.         0.         0.3137255  0.6117647  0.41960785 0.99215686\n",
      " 0.99215686 0.8039216  0.04313726 0.         0.16862746 0.6039216\n",
      " 0.         0.         0.         0.         0.         0.\n",
      " 0.         0.         0.         0.         0.         0.\n",
      " 0.         0.         0.         0.         0.         0.\n",
      " 0.         0.05490196 0.00392157 0.6039216  0.99215686 0.3529412\n",
      " 0.         0.         0.         0.         0.         0.\n",
      " 0.         0.         0.         0.         0.         0.\n",
      " 0.         0.         0.         0.         0.         0.\n",
      " 0.         0.         0.         0.         0.         0.\n",
      " 0.         0.54509807 0.99215686 0.74509805 0.00784314 0.\n",
      " 0.         0.         0.         0.         0.         0.\n",
      " 0.         0.         0.         0.         0.         0.\n",
      " 0.         0.         0.         0.         0.         0.\n",
      " 0.         0.         0.         0.         0.         0.04313726\n",
      " 0.74509805 0.99215686 0.27450982 0.         0.         0.\n",
      " 0.         0.         0.         0.         0.         0.\n",
      " 0.         0.         0.         0.         0.         0.\n",
      " 0.         0.         0.         0.         0.         0.\n",
      " 0.         0.         0.         0.         0.13725491 0.94509804\n",
      " 0.88235295 0.627451   0.42352942 0.00392157 0.         0.\n",
      " 0.         0.         0.         0.         0.         0.\n",
      " 0.         0.         0.         0.         0.         0.\n",
      " 0.         0.         0.         0.         0.         0.\n",
      " 0.         0.         0.         0.31764707 0.9411765  0.99215686\n",
      " 0.99215686 0.46666667 0.09803922 0.         0.         0.\n",
      " 0.         0.         0.         0.         0.         0.\n",
      " 0.         0.         0.         0.         0.         0.\n",
      " 0.         0.         0.         0.         0.         0.\n",
      " 0.         0.         0.1764706  0.7294118  0.99215686 0.99215686\n",
      " 0.5882353  0.10588235 0.         0.         0.         0.\n",
      " 0.         0.         0.         0.         0.         0.\n",
      " 0.         0.         0.         0.         0.         0.\n",
      " 0.         0.         0.         0.         0.         0.\n",
      " 0.         0.0627451  0.3647059  0.9882353  0.99215686 0.73333335\n",
      " 0.         0.         0.         0.         0.         0.\n",
      " 0.         0.         0.         0.         0.         0.\n",
      " 0.         0.         0.         0.         0.         0.\n",
      " 0.         0.         0.         0.         0.         0.\n",
      " 0.         0.9764706  0.99215686 0.9764706  0.2509804  0.\n",
      " 0.         0.         0.         0.         0.         0.\n",
      " 0.         0.         0.         0.         0.         0.\n",
      " 0.         0.         0.         0.         0.         0.\n",
      " 0.         0.         0.18039216 0.50980395 0.7176471  0.99215686\n",
      " 0.99215686 0.8117647  0.00784314 0.         0.         0.\n",
      " 0.         0.         0.         0.         0.         0.\n",
      " 0.         0.         0.         0.         0.         0.\n",
      " 0.         0.         0.         0.         0.15294118 0.5803922\n",
      " 0.8980392  0.99215686 0.99215686 0.99215686 0.98039216 0.7137255\n",
      " 0.         0.         0.         0.         0.         0.\n",
      " 0.         0.         0.         0.         0.         0.\n",
      " 0.         0.         0.         0.         0.         0.\n",
      " 0.09411765 0.44705883 0.8666667  0.99215686 0.99215686 0.99215686\n",
      " 0.99215686 0.7882353  0.30588236 0.         0.         0.\n",
      " 0.         0.         0.         0.         0.         0.\n",
      " 0.         0.         0.         0.         0.         0.\n",
      " 0.         0.         0.09019608 0.25882354 0.8352941  0.99215686\n",
      " 0.99215686 0.99215686 0.99215686 0.7764706  0.31764707 0.00784314\n",
      " 0.         0.         0.         0.         0.         0.\n",
      " 0.         0.         0.         0.         0.         0.\n",
      " 0.         0.         0.         0.         0.07058824 0.67058825\n",
      " 0.85882354 0.99215686 0.99215686 0.99215686 0.99215686 0.7647059\n",
      " 0.3137255  0.03529412 0.         0.         0.         0.\n",
      " 0.         0.         0.         0.         0.         0.\n",
      " 0.         0.         0.         0.         0.         0.\n",
      " 0.21568628 0.6745098  0.8862745  0.99215686 0.99215686 0.99215686\n",
      " 0.99215686 0.95686275 0.52156866 0.04313726 0.         0.\n",
      " 0.         0.         0.         0.         0.         0.\n",
      " 0.         0.         0.         0.         0.         0.\n",
      " 0.         0.         0.         0.         0.53333336 0.99215686\n",
      " 0.99215686 0.99215686 0.83137256 0.5294118  0.5176471  0.0627451\n",
      " 0.         0.         0.         0.         0.         0.\n",
      " 0.         0.         0.         0.         0.         0.\n",
      " 0.         0.         0.         0.         0.         0.\n",
      " 0.         0.         0.         0.         0.         0.\n",
      " 0.         0.         0.         0.         0.         0.\n",
      " 0.         0.         0.         0.         0.         0.\n",
      " 0.         0.         0.         0.         0.         0.\n",
      " 0.         0.         0.         0.         0.         0.\n",
      " 0.         0.         0.         0.         0.         0.\n",
      " 0.         0.         0.         0.         0.         0.\n",
      " 0.         0.         0.         0.         0.         0.\n",
      " 0.         0.         0.         0.         0.         0.\n",
      " 0.         0.         0.         0.         0.         0.\n",
      " 0.         0.         0.         0.         0.         0.\n",
      " 0.         0.         0.         0.         0.         0.\n",
      " 0.         0.         0.         0.         0.         0.\n",
      " 0.         0.         0.         0.        ]\n",
      "784\n"
     ]
    },
    {
     "data": {
      "text/plain": [
       "'\\nThis flattening is necessary when your model’s first layer is a Dense (fully connected) layer, \\nwhich takes a one-dimensional input.\\n'"
      ]
     },
     "execution_count": 11,
     "metadata": {},
     "output_type": "execute_result"
    }
   ],
   "source": [
    "# Reshape: If using a Fully Connected network, flatten the images\n",
    "x_train = x_train.reshape(-1, 28 * 28)\n",
    "x_test = x_test.reshape(-1, 28 * 28)\n",
    "\n",
    "print(x_train.shape)\n",
    "print(x_train[0].shape)\n",
    "print(x_train[0][0].shape)\n",
    "\n",
    "print(x_train[0])\n",
    "print(len(x_train[0]))\n",
    "\n",
    "\"\"\"\n",
    "This flattening is necessary when your model’s first layer is a Dense (fully connected) layer, \n",
    "which takes a one-dimensional input.\n",
    "\"\"\""
   ]
  },
  {
   "cell_type": "code",
   "execution_count": 12,
   "id": "fd727d43",
   "metadata": {},
   "outputs": [
    {
     "data": {
      "text/plain": [
       "'\\nWhen using a Convolutional Neural Network (CNN) for image processing, the model typically expects the input data to \\nhave a channel dimension. For grayscale images (like MNIST), the pixel values are initially stored in a 2D array \\n(height, width). However, CNNs require a 3D input per image (height, width, channels).\\n\\n•\\tPurpose:\\nAdds a new dimension to the end of the existing shape.\\n\\t•\\tFor MNIST:\\nOriginal shape of each image is (28, 28). After expanding, the shape becomes (28, 28, 1).\\n\\t•\\tChannel Dimension:\\nThe new dimension (with size 1) represents the channel. In grayscale images, there is only one channel.\\n\\t•\\taxis=-1 Explanation:\\n\\t•\\tThe parameter axis=-1 tells NumPy to add the new dimension at the very end of the shape.\\n\\t•\\tIf you had an image with shape (28, 28), adding a new axis at position -1 changes it to (28, 28, 1), \\n    making it compatible with CNNs that expect a 4D input tensor of shape:\\n(number of samples, height, width, channels)\\n\\n'"
      ]
     },
     "execution_count": 12,
     "metadata": {},
     "output_type": "execute_result"
    }
   ],
   "source": [
    "# Alternatively, for a CNN you would expand dimensions:\n",
    "x_train_D = np.expand_dims(x_train, axis=-1)\n",
    "x_test_D = np.expand_dims(x_test, axis=-1)\n",
    "\n",
    "\"\"\"\n",
    "When using a Convolutional Neural Network (CNN) for image processing, the model typically expects the input data to \n",
    "have a channel dimension. For grayscale images (like MNIST), the pixel values are initially stored in a 2D array \n",
    "(height, width). However, CNNs require a 3D input per image (height, width, channels).\n",
    "\n",
    "•\tPurpose:\n",
    "Adds a new dimension to the end of the existing shape.\n",
    "\t•\tFor MNIST:\n",
    "Original shape of each image is (28, 28). After expanding, the shape becomes (28, 28, 1).\n",
    "\t•\tChannel Dimension:\n",
    "The new dimension (with size 1) represents the channel. In grayscale images, there is only one channel.\n",
    "\t•\taxis=-1 Explanation:\n",
    "\t•\tThe parameter axis=-1 tells NumPy to add the new dimension at the very end of the shape.\n",
    "\t•\tIf you had an image with shape (28, 28), adding a new axis at position -1 changes it to (28, 28, 1), \n",
    "    making it compatible with CNNs that expect a 4D input tensor of shape:\n",
    "(number of samples, height, width, channels)\n",
    "\n",
    "\"\"\""
   ]
  },
  {
   "cell_type": "code",
   "execution_count": 13,
   "id": "30b6675d",
   "metadata": {},
   "outputs": [
    {
     "name": "stdout",
     "output_type": "stream",
     "text": [
      "x_train shape: (60000, 784)\n",
      "y_train shape: (60000,)\n"
     ]
    }
   ],
   "source": [
    "# Print shapes\n",
    "print(\"x_train shape:\", x_train.shape)\n",
    "print(\"y_train shape:\", y_train.shape)"
   ]
  },
  {
   "cell_type": "code",
   "execution_count": 14,
   "id": "3469c4f6",
   "metadata": {},
   "outputs": [
    {
     "name": "stderr",
     "output_type": "stream",
     "text": [
      "2025-04-15 22:39:57.998249: I metal_plugin/src/device/metal_device.cc:1154] Metal device set to: Apple M1\n",
      "2025-04-15 22:39:57.998507: I metal_plugin/src/device/metal_device.cc:296] systemMemory: 8.00 GB\n",
      "2025-04-15 22:39:57.998539: I metal_plugin/src/device/metal_device.cc:313] maxCacheSize: 2.67 GB\n",
      "2025-04-15 22:39:57.999006: I tensorflow/core/common_runtime/pluggable_device/pluggable_device_factory.cc:305] Could not identify NUMA node of platform GPU ID 0, defaulting to 0. Your kernel may not have been built with NUMA support.\n",
      "2025-04-15 22:39:57.999053: I tensorflow/core/common_runtime/pluggable_device/pluggable_device_factory.cc:271] Created TensorFlow device (/job:localhost/replica:0/task:0/device:GPU:0 with 0 MB memory) -> physical PluggableDevice (device: 0, name: METAL, pci bus id: <undefined>)\n"
     ]
    }
   ],
   "source": [
    "# Create tf.data.Datasets (optional, for efficient pipelining)\n",
    "batch_size = 64\n",
    "train_ds = tf.data.Dataset.from_tensor_slices((x_train, y_train)).shuffle(10000).batch(batch_size)\n",
    "test_ds = tf.data.Dataset.from_tensor_slices((x_test, y_test)).batch(batch_size)"
   ]
  },
  {
   "cell_type": "code",
   "execution_count": 16,
   "id": "be376915",
   "metadata": {},
   "outputs": [
    {
     "name": "stdout",
     "output_type": "stream",
     "text": [
      "Inputs batch shape: (64, 784)\n",
      "Labels batch shape: (64,)\n"
     ]
    },
    {
     "name": "stderr",
     "output_type": "stream",
     "text": [
      "2025-04-15 22:42:22.813324: W tensorflow/core/framework/local_rendezvous.cc:404] Local rendezvous is aborting with status: OUT_OF_RANGE: End of sequence\n"
     ]
    }
   ],
   "source": [
    "for batch in train_ds.take(1):\n",
    "    inputs, labels = batch\n",
    "    print(\"Inputs batch shape:\", inputs.shape)\n",
    "    print(\"Labels batch shape:\", labels.shape)"
   ]
  },
  {
   "cell_type": "code",
   "execution_count": 17,
   "id": "867b6e5e",
   "metadata": {},
   "outputs": [
    {
     "name": "stdout",
     "output_type": "stream",
     "text": [
      "Inputs as NumPy array: [[0. 0. 0. ... 0. 0. 0.]\n",
      " [0. 0. 0. ... 0. 0. 0.]\n",
      " [0. 0. 0. ... 0. 0. 0.]\n",
      " ...\n",
      " [0. 0. 0. ... 0. 0. 0.]\n",
      " [0. 0. 0. ... 0. 0. 0.]\n",
      " [0. 0. 0. ... 0. 0. 0.]]\n",
      "Labels as NumPy array: [1 8 8 4 3 0 6 5 7 9 4 3 1 7 5 8 8 5 2 3 0 9 5 8 4 0 1 1 5 4 2 4 3 5 3 1 3\n",
      " 8 6 3 0 5 2 4 8 2 7 9 4 6 9 6 2 4 8 2 9 3 4 7 7 4 4 0]\n"
     ]
    },
    {
     "name": "stderr",
     "output_type": "stream",
     "text": [
      "2025-04-15 22:42:30.776074: W tensorflow/core/framework/local_rendezvous.cc:404] Local rendezvous is aborting with status: OUT_OF_RANGE: End of sequence\n"
     ]
    }
   ],
   "source": [
    "for batch in train_ds.take(1):\n",
    "    inputs, labels = batch\n",
    "    inputs_np = inputs.numpy()\n",
    "    labels_np = labels.numpy()\n",
    "    print(\"Inputs as NumPy array:\", inputs_np)\n",
    "    print(\"Labels as NumPy array:\", labels_np)"
   ]
  },
  {
   "cell_type": "code",
   "execution_count": 18,
   "id": "c65a0a5f",
   "metadata": {},
   "outputs": [],
   "source": [
    "# --------------------------------------------\n",
    "# 3. Build the Model\n",
    "# --------------------------------------------\n",
    "# Using a simple Sequential model for demonstration\n",
    "model = models.Sequential([\n",
    "    layers.Input(shape=(28 * 28,)),   # Input layer that takes flat 784-dimensional vectors\n",
    "    layers.Dense(128, activation='relu'),\n",
    "    layers.Dropout(0.2),              # Dropout layer to help reduce overfitting\n",
    "    layers.Dense(10)                  # Output layer: 10 neurons for 10 classes (no activation because we use from_logits=True)\n",
    "])"
   ]
  },
  {
   "cell_type": "code",
   "execution_count": 19,
   "id": "512902f0",
   "metadata": {},
   "outputs": [],
   "source": [
    "# --------------------------------------------\n",
    "# 4. Compile the Model\n",
    "# --------------------------------------------\n",
    "# Choose an optimizer, loss function, and metrics.\n",
    "# For multi-class classification, we use SparseCategoricalCrossentropy.\n",
    "model.compile(\n",
    "    optimizer=Adam(learning_rate=1e-3),\n",
    "    loss=tf.keras.losses.SparseCategoricalCrossentropy(from_logits=True),\n",
    "    metrics=['accuracy']\n",
    ")"
   ]
  },
  {
   "cell_type": "code",
   "execution_count": 20,
   "id": "faab16f9",
   "metadata": {},
   "outputs": [
    {
     "data": {
      "text/html": [
       "<pre style=\"white-space:pre;overflow-x:auto;line-height:normal;font-family:Menlo,'DejaVu Sans Mono',consolas,'Courier New',monospace\"><span style=\"font-weight: bold\">Model: \"sequential\"</span>\n",
       "</pre>\n"
      ],
      "text/plain": [
       "\u001b[1mModel: \"sequential\"\u001b[0m\n"
      ]
     },
     "metadata": {},
     "output_type": "display_data"
    },
    {
     "data": {
      "text/html": [
       "<pre style=\"white-space:pre;overflow-x:auto;line-height:normal;font-family:Menlo,'DejaVu Sans Mono',consolas,'Courier New',monospace\">┏━━━━━━━━━━━━━━━━━━━━━━━━━━━━━━━━━┳━━━━━━━━━━━━━━━━━━━━━━━━┳━━━━━━━━━━━━━━━┓\n",
       "┃<span style=\"font-weight: bold\"> Layer (type)                    </span>┃<span style=\"font-weight: bold\"> Output Shape           </span>┃<span style=\"font-weight: bold\">       Param # </span>┃\n",
       "┡━━━━━━━━━━━━━━━━━━━━━━━━━━━━━━━━━╇━━━━━━━━━━━━━━━━━━━━━━━━╇━━━━━━━━━━━━━━━┩\n",
       "│ dense (<span style=\"color: #0087ff; text-decoration-color: #0087ff\">Dense</span>)                   │ (<span style=\"color: #00d7ff; text-decoration-color: #00d7ff\">None</span>, <span style=\"color: #00af00; text-decoration-color: #00af00\">128</span>)            │       <span style=\"color: #00af00; text-decoration-color: #00af00\">100,480</span> │\n",
       "├─────────────────────────────────┼────────────────────────┼───────────────┤\n",
       "│ dropout (<span style=\"color: #0087ff; text-decoration-color: #0087ff\">Dropout</span>)               │ (<span style=\"color: #00d7ff; text-decoration-color: #00d7ff\">None</span>, <span style=\"color: #00af00; text-decoration-color: #00af00\">128</span>)            │             <span style=\"color: #00af00; text-decoration-color: #00af00\">0</span> │\n",
       "├─────────────────────────────────┼────────────────────────┼───────────────┤\n",
       "│ dense_1 (<span style=\"color: #0087ff; text-decoration-color: #0087ff\">Dense</span>)                 │ (<span style=\"color: #00d7ff; text-decoration-color: #00d7ff\">None</span>, <span style=\"color: #00af00; text-decoration-color: #00af00\">10</span>)             │         <span style=\"color: #00af00; text-decoration-color: #00af00\">1,290</span> │\n",
       "└─────────────────────────────────┴────────────────────────┴───────────────┘\n",
       "</pre>\n"
      ],
      "text/plain": [
       "┏━━━━━━━━━━━━━━━━━━━━━━━━━━━━━━━━━┳━━━━━━━━━━━━━━━━━━━━━━━━┳━━━━━━━━━━━━━━━┓\n",
       "┃\u001b[1m \u001b[0m\u001b[1mLayer (type)                   \u001b[0m\u001b[1m \u001b[0m┃\u001b[1m \u001b[0m\u001b[1mOutput Shape          \u001b[0m\u001b[1m \u001b[0m┃\u001b[1m \u001b[0m\u001b[1m      Param #\u001b[0m\u001b[1m \u001b[0m┃\n",
       "┡━━━━━━━━━━━━━━━━━━━━━━━━━━━━━━━━━╇━━━━━━━━━━━━━━━━━━━━━━━━╇━━━━━━━━━━━━━━━┩\n",
       "│ dense (\u001b[38;5;33mDense\u001b[0m)                   │ (\u001b[38;5;45mNone\u001b[0m, \u001b[38;5;34m128\u001b[0m)            │       \u001b[38;5;34m100,480\u001b[0m │\n",
       "├─────────────────────────────────┼────────────────────────┼───────────────┤\n",
       "│ dropout (\u001b[38;5;33mDropout\u001b[0m)               │ (\u001b[38;5;45mNone\u001b[0m, \u001b[38;5;34m128\u001b[0m)            │             \u001b[38;5;34m0\u001b[0m │\n",
       "├─────────────────────────────────┼────────────────────────┼───────────────┤\n",
       "│ dense_1 (\u001b[38;5;33mDense\u001b[0m)                 │ (\u001b[38;5;45mNone\u001b[0m, \u001b[38;5;34m10\u001b[0m)             │         \u001b[38;5;34m1,290\u001b[0m │\n",
       "└─────────────────────────────────┴────────────────────────┴───────────────┘\n"
      ]
     },
     "metadata": {},
     "output_type": "display_data"
    },
    {
     "data": {
      "text/html": [
       "<pre style=\"white-space:pre;overflow-x:auto;line-height:normal;font-family:Menlo,'DejaVu Sans Mono',consolas,'Courier New',monospace\"><span style=\"font-weight: bold\"> Total params: </span><span style=\"color: #00af00; text-decoration-color: #00af00\">101,770</span> (397.54 KB)\n",
       "</pre>\n"
      ],
      "text/plain": [
       "\u001b[1m Total params: \u001b[0m\u001b[38;5;34m101,770\u001b[0m (397.54 KB)\n"
      ]
     },
     "metadata": {},
     "output_type": "display_data"
    },
    {
     "data": {
      "text/html": [
       "<pre style=\"white-space:pre;overflow-x:auto;line-height:normal;font-family:Menlo,'DejaVu Sans Mono',consolas,'Courier New',monospace\"><span style=\"font-weight: bold\"> Trainable params: </span><span style=\"color: #00af00; text-decoration-color: #00af00\">101,770</span> (397.54 KB)\n",
       "</pre>\n"
      ],
      "text/plain": [
       "\u001b[1m Trainable params: \u001b[0m\u001b[38;5;34m101,770\u001b[0m (397.54 KB)\n"
      ]
     },
     "metadata": {},
     "output_type": "display_data"
    },
    {
     "data": {
      "text/html": [
       "<pre style=\"white-space:pre;overflow-x:auto;line-height:normal;font-family:Menlo,'DejaVu Sans Mono',consolas,'Courier New',monospace\"><span style=\"font-weight: bold\"> Non-trainable params: </span><span style=\"color: #00af00; text-decoration-color: #00af00\">0</span> (0.00 B)\n",
       "</pre>\n"
      ],
      "text/plain": [
       "\u001b[1m Non-trainable params: \u001b[0m\u001b[38;5;34m0\u001b[0m (0.00 B)\n"
      ]
     },
     "metadata": {},
     "output_type": "display_data"
    }
   ],
   "source": [
    "# Print model summary\n",
    "model.summary()\n"
   ]
  },
  {
   "cell_type": "code",
   "execution_count": 21,
   "id": "30c9417c",
   "metadata": {},
   "outputs": [],
   "source": [
    "# --------------------------------------------\n",
    "# 5. Set Up Callbacks\n",
    "# --------------------------------------------\n",
    "# EarlyStopping: Stops training when the validation loss stops improving.\n",
    "early_stop = EarlyStopping(monitor='val_loss', patience=3, restore_best_weights=True)\n",
    "\n",
    "# ModelCheckpoint: Saves the best model during training.\n",
    "checkpoint = ModelCheckpoint(\"best_mnist_model.keras\", monitor='val_loss', save_best_only=True)\n",
    "\n",
    "# -----------------------"
   ]
  },
  {
   "cell_type": "code",
   "execution_count": 26,
   "id": "39b99490",
   "metadata": {},
   "outputs": [
    {
     "name": "stdout",
     "output_type": "stream",
     "text": [
      "Epoch 1/20\n",
      "\u001b[1m938/938\u001b[0m \u001b[32m━━━━━━━━━━━━━━━━━━━━\u001b[0m\u001b[37m\u001b[0m \u001b[1m8s\u001b[0m 8ms/step - accuracy: 0.8742 - loss: 0.4737 - val_accuracy: 0.9022 - val_loss: 0.3822\n",
      "Epoch 2/20\n",
      "\u001b[1m938/938\u001b[0m \u001b[32m━━━━━━━━━━━━━━━━━━━━\u001b[0m\u001b[37m\u001b[0m \u001b[1m8s\u001b[0m 8ms/step - accuracy: 0.8716 - loss: 0.4970 - val_accuracy: 0.9046 - val_loss: 0.3756\n",
      "Epoch 3/20\n",
      "\u001b[1m938/938\u001b[0m \u001b[32m━━━━━━━━━━━━━━━━━━━━\u001b[0m\u001b[37m\u001b[0m \u001b[1m8s\u001b[0m 8ms/step - accuracy: 0.8700 - loss: 0.5105 - val_accuracy: 0.8879 - val_loss: 0.4252\n",
      "Epoch 4/20\n",
      "\u001b[1m938/938\u001b[0m \u001b[32m━━━━━━━━━━━━━━━━━━━━\u001b[0m\u001b[37m\u001b[0m \u001b[1m8s\u001b[0m 8ms/step - accuracy: 0.8720 - loss: 0.4974 - val_accuracy: 0.8830 - val_loss: 0.4488\n",
      "Epoch 5/20\n",
      "\u001b[1m938/938\u001b[0m \u001b[32m━━━━━━━━━━━━━━━━━━━━\u001b[0m\u001b[37m\u001b[0m \u001b[1m9s\u001b[0m 10ms/step - accuracy: 0.8687 - loss: 0.5202 - val_accuracy: 0.9140 - val_loss: 0.3430\n",
      "Epoch 6/20\n",
      "\u001b[1m938/938\u001b[0m \u001b[32m━━━━━━━━━━━━━━━━━━━━\u001b[0m\u001b[37m\u001b[0m \u001b[1m7s\u001b[0m 8ms/step - accuracy: 0.8703 - loss: 0.5251 - val_accuracy: 0.8950 - val_loss: 0.4147\n",
      "Epoch 7/20\n",
      "\u001b[1m938/938\u001b[0m \u001b[32m━━━━━━━━━━━━━━━━━━━━\u001b[0m\u001b[37m\u001b[0m \u001b[1m8s\u001b[0m 8ms/step - accuracy: 0.8685 - loss: 0.5249 - val_accuracy: 0.8929 - val_loss: 0.4079\n",
      "Epoch 8/20\n",
      "\u001b[1m938/938\u001b[0m \u001b[32m━━━━━━━━━━━━━━━━━━━━\u001b[0m\u001b[37m\u001b[0m \u001b[1m8s\u001b[0m 8ms/step - accuracy: 0.8698 - loss: 0.5310 - val_accuracy: 0.9009 - val_loss: 0.3785\n"
     ]
    }
   ],
   "source": [
    "# Assuming x_train and x_test are NumPy arrays of appropriate shapes\n",
    "history = model.fit(\n",
    "    x_train, \n",
    "    y_train,\n",
    "    batch_size=64,      # Batch processing happens internally within model.fit\n",
    "    epochs=20,\n",
    "    validation_data=(x_test, y_test), callbacks=[early_stop, checkpoint]\n",
    ")"
   ]
  },
  {
   "cell_type": "code",
   "execution_count": 22,
   "id": "445166ac",
   "metadata": {},
   "outputs": [
    {
     "name": "stdout",
     "output_type": "stream",
     "text": [
      "Epoch 1/20\n"
     ]
    },
    {
     "name": "stderr",
     "output_type": "stream",
     "text": [
      "2025-04-15 23:04:40.725673: I tensorflow/core/grappler/optimizers/custom_graph_optimizer_registry.cc:117] Plugin optimizer for device_type GPU is enabled.\n"
     ]
    },
    {
     "name": "stdout",
     "output_type": "stream",
     "text": [
      "\u001b[1m938/938\u001b[0m \u001b[32m━━━━━━━━━━━━━━━━━━━━\u001b[0m\u001b[37m\u001b[0m \u001b[1m9s\u001b[0m 8ms/step - accuracy: 0.8235 - loss: 0.5968 - val_accuracy: 0.9188 - val_loss: 0.2909\n",
      "Epoch 2/20\n",
      "\u001b[1m938/938\u001b[0m \u001b[32m━━━━━━━━━━━━━━━━━━━━\u001b[0m\u001b[37m\u001b[0m \u001b[1m8s\u001b[0m 8ms/step - accuracy: 0.8978 - loss: 0.3599 - val_accuracy: 0.9216 - val_loss: 0.2960\n",
      "Epoch 3/20\n",
      "\u001b[1m938/938\u001b[0m \u001b[32m━━━━━━━━━━━━━━━━━━━━\u001b[0m\u001b[37m\u001b[0m \u001b[1m7s\u001b[0m 8ms/step - accuracy: 0.8938 - loss: 0.3754 - val_accuracy: 0.9204 - val_loss: 0.2859\n",
      "Epoch 4/20\n",
      "\u001b[1m938/938\u001b[0m \u001b[32m━━━━━━━━━━━━━━━━━━━━\u001b[0m\u001b[37m\u001b[0m \u001b[1m8s\u001b[0m 8ms/step - accuracy: 0.8943 - loss: 0.3791 - val_accuracy: 0.9191 - val_loss: 0.2941\n",
      "Epoch 5/20\n",
      "\u001b[1m938/938\u001b[0m \u001b[32m━━━━━━━━━━━━━━━━━━━━\u001b[0m\u001b[37m\u001b[0m \u001b[1m8s\u001b[0m 8ms/step - accuracy: 0.8923 - loss: 0.3912 - val_accuracy: 0.9166 - val_loss: 0.2986\n",
      "Epoch 6/20\n",
      "\u001b[1m938/938\u001b[0m \u001b[32m━━━━━━━━━━━━━━━━━━━━\u001b[0m\u001b[37m\u001b[0m \u001b[1m8s\u001b[0m 8ms/step - accuracy: 0.8910 - loss: 0.3947 - val_accuracy: 0.9149 - val_loss: 0.3047\n"
     ]
    }
   ],
   "source": [
    "# 6. Train the Model\n",
    "# --------------------------------------------\n",
    "history = model.fit(\n",
    "    train_ds,\n",
    "    epochs=20,\n",
    "    validation_data=test_ds,\n",
    "    callbacks=[early_stop, checkpoint]\n",
    ")"
   ]
  },
  {
   "cell_type": "code",
   "execution_count": 23,
   "id": "6a2d1640",
   "metadata": {},
   "outputs": [
    {
     "name": "stdout",
     "output_type": "stream",
     "text": [
      "\u001b[1m157/157\u001b[0m \u001b[32m━━━━━━━━━━━━━━━━━━━━\u001b[0m\u001b[37m\u001b[0m \u001b[1m1s\u001b[0m 4ms/step - accuracy: 0.9081 - loss: 0.3222\n",
      "Test Loss: 0.2859, Test Accuracy: 0.9204\n"
     ]
    }
   ],
   "source": [
    "# --------------------------------------------\n",
    "# 7. Evaluate the Model\n",
    "# --------------------------------------------\n",
    "loss, accuracy = model.evaluate(test_ds)\n",
    "print(f\"Test Loss: {loss:.4f}, Test Accuracy: {accuracy:.4f}\")\n"
   ]
  },
  {
   "cell_type": "code",
   "execution_count": 24,
   "id": "33d8b4ef",
   "metadata": {},
   "outputs": [
    {
     "name": "stdout",
     "output_type": "stream",
     "text": [
      "\u001b[1m1/1\u001b[0m \u001b[32m━━━━━━━━━━━━━━━━━━━━\u001b[0m\u001b[37m\u001b[0m \u001b[1m0s\u001b[0m 272ms/step\n",
      "Predictions: [7 2 1 0 4]\n",
      "True labels: [7 2 1 0 4]\n"
     ]
    }
   ],
   "source": [
    "\n",
    "# --------------------------------------------\n",
    "# 8. Use the Model for Prediction\n",
    "# --------------------------------------------\n",
    "# For example, predict the label of the first 5 test images\n",
    "predictions = model.predict(x_test[:5])\n",
    "predicted_labels = np.argmax(predictions, axis=1)\n",
    "print(\"Predictions:\", predicted_labels)\n",
    "print(\"True labels:\", y_test[:5])"
   ]
  },
  {
   "cell_type": "code",
   "execution_count": null,
   "id": "3b8f1262",
   "metadata": {},
   "outputs": [],
   "source": []
  }
 ],
 "metadata": {
  "kernelspec": {
   "display_name": "skhan3",
   "language": "python",
   "name": "python3"
  },
  "language_info": {
   "codemirror_mode": {
    "name": "ipython",
    "version": 3
   },
   "file_extension": ".py",
   "mimetype": "text/x-python",
   "name": "python",
   "nbconvert_exporter": "python",
   "pygments_lexer": "ipython3",
   "version": "3.9.21"
  }
 },
 "nbformat": 4,
 "nbformat_minor": 5
}
