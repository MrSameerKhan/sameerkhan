{
 "cells": [
  {
   "cell_type": "code",
   "execution_count": 1,
   "id": "2d50df7e",
   "metadata": {},
   "outputs": [],
   "source": [
    "import os\n",
    "import tensorflow as tf\n",
    "from tensorflow.keras import layers, models\n",
    "import matplotlib.pyplot as plt"
   ]
  },
  {
   "cell_type": "code",
   "execution_count": 3,
   "id": "4095a023",
   "metadata": {},
   "outputs": [
    {
     "name": "stdout",
     "output_type": "stream",
     "text": [
      "Dataset URL: https://www.kaggle.com/datasets/abdellatifsassioui/rvlcdip\n"
     ]
    },
    {
     "ename": "",
     "evalue": "",
     "output_type": "error",
     "traceback": [
      "\u001b[1;31mThe Kernel crashed while executing code in the current cell or a previous cell. \n",
      "\u001b[1;31mPlease review the code in the cell(s) to identify a possible cause of the failure. \n",
      "\u001b[1;31mClick <a href='https://aka.ms/vscodeJupyterKernelCrash'>here</a> for more info. \n",
      "\u001b[1;31mView Jupyter <a href='command:jupyter.viewOutput'>log</a> for further details."
     ]
    }
   ],
   "source": [
    "# Section 2: Kaggle Authentication & Download\n",
    "from kaggle.api.kaggle_api_extended import KaggleApi\n",
    "import os\n",
    "\n",
    "# Authenticate with your kaggle.json\n",
    "api = KaggleApi()\n",
    "api.authenticate()\n",
    "\n",
    "# Download & unzip the RVL‑CDIP dataset\n",
    "api.dataset_download_files(\n",
    "    'abdellatifsassioui/rvlcdip',\n",
    "    path='data/rvlcdip',\n",
    "    unzip=True\n",
    ")\n",
    "\n",
    "# Verify the directory structure\n",
    "print(\"Train folder contents:\", os.listdir('data/rvlcdip/train')[:5])\n",
    "print(\"Test  folder contents:\", os.listdir('data/rvlcdip/test')[:5])"
   ]
  },
  {
   "cell_type": "code",
   "execution_count": null,
   "id": "3ada7e4c",
   "metadata": {},
   "outputs": [],
   "source": [
    "# Section 3: Prepare tf.data Datasets\n",
    "import tensorflow as tf\n",
    "\n",
    "train_dir = 'data/rvlcdip/train'\n",
    "test_dir  = 'data/rvlcdip/test'\n",
    "\n",
    "# Create training and validation splits from the train directory\n",
    "train_ds = tf.keras.preprocessing.image_dataset_from_directory(\n",
    "    train_dir,\n",
    "    labels='inferred',\n",
    "    label_mode='int',\n",
    "    batch_size=32,\n",
    "    image_size=(224, 224),\n",
    "    color_mode='grayscale',\n",
    "    validation_split=0.1,\n",
    "    subset='training',\n",
    "    seed=123\n",
    ")\n",
    "\n",
    "val_ds = tf.keras.preprocessing.image_dataset_from_directory(\n",
    "    train_dir,\n",
    "    labels='inferred',\n",
    "    label_mode='int',\n",
    "    batch_size=32,\n",
    "    image_size=(224, 224),\n",
    "    color_mode='grayscale',\n",
    "    validation_split=0.1,\n",
    "    subset='validation',\n",
    "    seed=123\n",
    ")\n",
    "\n",
    "# Create the test dataset\n",
    "test_ds = tf.keras.preprocessing.image_dataset_from_directory(\n",
    "    test_dir,\n",
    "    labels='inferred',\n",
    "    label_mode='int',\n",
    "    batch_size=32,\n",
    "    image_size=(224, 224),\n",
    "    color_mode='grayscale'\n",
    ")\n",
    "\n",
    "print(\"Classes:\", train_ds.class_names)\n",
    "print(\"Training batches:\", tf.data.experimental.cardinality(train_ds).numpy())\n",
    "print(\"Validation batches:\", tf.data.experimental.cardinality(val_ds).numpy())\n",
    "print(\"Test batches:\", tf.data.experimental.cardinality(test_ds).numpy())"
   ]
  },
  {
   "cell_type": "code",
   "execution_count": null,
   "id": "06baa139",
   "metadata": {},
   "outputs": [],
   "source": []
  }
 ],
 "metadata": {
  "kernelspec": {
   "display_name": "skhan3",
   "language": "python",
   "name": "python3"
  },
  "language_info": {
   "codemirror_mode": {
    "name": "ipython",
    "version": 3
   },
   "file_extension": ".py",
   "mimetype": "text/x-python",
   "name": "python",
   "nbconvert_exporter": "python",
   "pygments_lexer": "ipython3",
   "version": "3.9.21"
  }
 },
 "nbformat": 4,
 "nbformat_minor": 5
}
