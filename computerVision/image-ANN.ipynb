{
 "cells": [
  {
   "cell_type": "code",
   "execution_count": 20,
   "id": "78708dcf",
   "metadata": {},
   "outputs": [],
   "source": [
    "# =============================================\n",
    "# 1. Imports and Setup\n",
    "# =============================================\n",
    "import tensorflow as tf\n",
    "import numpy as np\n",
    "import matplotlib.pyplot as plt\n",
    "from tensorflow.keras import models, layers\n",
    "from tensorflow.keras.optimizers import Adam\n",
    "from tensorflow.keras.callbacks import EarlyStopping, ModelCheckpoint\n",
    "from sklearn.model_selection import train_test_split\n",
    "\n",
    "# Set random seeds for reproducibility\n",
    "np.random.seed(1337)\n",
    "tf.random.set_seed(1337)\n",
    "\n",
    "# =============================================\n",
    "# 2. Load and Preprocess MNIST Data\n",
    "# =============================================\n",
    "# Load MNIST dataset (60,000 training images and 10,000 test images)\n",
    "(x_train, y_train), (x_test, y_test) = tf.keras.datasets.mnist.load_data()\n",
    "\n",
    "# Normalize pixel values to the range [0, 1]\n",
    "x_train = x_train.astype('float32') / 255.0\n",
    "x_test  = x_test.astype('float32') / 255.0\n",
    "\n",
    "# Split the training set into training and validation sets (80-20 split)\n",
    "x_train, x_val, y_train, y_val = train_test_split(\n",
    "    x_train, y_train,\n",
    "    test_size=0.2,\n",
    "    random_state=42,\n",
    "    stratify=y_train\n",
    ")\n",
    "\n",
    "# =============================================\n",
    "# 3. Reshape Data for a Fully Connected ANN\n",
    "# =============================================\n",
    "# For an ANN, we flatten each image from 28x28 to a 784-dimensional vector.\n",
    "x_train = x_train.reshape(-1, 28 * 28)\n",
    "x_val   = x_val.reshape(-1, 28 * 28)\n",
    "x_test  = x_test.reshape(-1, 28 * 28)\n",
    "\n",
    "# =============================================\n",
    "# 4. Build the Model\n",
    "# =============================================\n",
    "model = models.Sequential([\n",
    "    layers.Input(shape=(28 * 28,)),       # Expect 784-dimensional input\n",
    "    layers.Dense(128, activation='relu'),  # Hidden layer with 128 neurons + ReLU activation\n",
    "    layers.Dropout(0.2),                   # Dropout with a rate of 0.2 (20%)\n",
    "    layers.Dense(10)                       # Output layer with 10 neurons (one per class), outputs logits\n",
    "])\n",
    "\n",
    "# =============================================\n",
    "# 5. Compile the Model\n",
    "# =============================================\n",
    "# Use Adam optimizer and SparseCategoricalCrossentropy loss.\n",
    "model.compile(\n",
    "    optimizer=Adam(learning_rate=1e-3),\n",
    "    loss=tf.keras.losses.SparseCategoricalCrossentropy(from_logits=True),\n",
    "    metrics=['accuracy']\n",
    ")\n",
    "\n",
    "# Print the model summary for verification\n",
    "# model.summary()"
   ]
  },
  {
   "cell_type": "code",
   "execution_count": 21,
   "id": "695ec026",
   "metadata": {},
   "outputs": [
    {
     "name": "stdout",
     "output_type": "stream",
     "text": [
      "Epoch 1/20\n",
      "\u001b[1m750/750\u001b[0m \u001b[32m━━━━━━━━━━━━━━━━━━━━\u001b[0m\u001b[37m\u001b[0m \u001b[1m7s\u001b[0m 8ms/step - accuracy: 0.8005 - loss: 0.6539 - val_accuracy: 0.9115 - val_loss: 0.3104\n",
      "Epoch 2/20\n",
      "\u001b[1m750/750\u001b[0m \u001b[32m━━━━━━━━━━━━━━━━━━━━\u001b[0m\u001b[37m\u001b[0m \u001b[1m6s\u001b[0m 7ms/step - accuracy: 0.8951 - loss: 0.3672 - val_accuracy: 0.9158 - val_loss: 0.3044\n",
      "Epoch 3/20\n",
      "\u001b[1m750/750\u001b[0m \u001b[32m━━━━━━━━━━━━━━━━━━━━\u001b[0m\u001b[37m\u001b[0m \u001b[1m5s\u001b[0m 7ms/step - accuracy: 0.8976 - loss: 0.3675 - val_accuracy: 0.9167 - val_loss: 0.3054\n",
      "Epoch 4/20\n",
      "\u001b[1m750/750\u001b[0m \u001b[32m━━━━━━━━━━━━━━━━━━━━\u001b[0m\u001b[37m\u001b[0m \u001b[1m6s\u001b[0m 7ms/step - accuracy: 0.8941 - loss: 0.3810 - val_accuracy: 0.9155 - val_loss: 0.3114\n",
      "Epoch 5/20\n",
      "\u001b[1m750/750\u001b[0m \u001b[32m━━━━━━━━━━━━━━━━━━━━\u001b[0m\u001b[37m\u001b[0m \u001b[1m5s\u001b[0m 7ms/step - accuracy: 0.8949 - loss: 0.3820 - val_accuracy: 0.9160 - val_loss: 0.3072\n"
     ]
    }
   ],
   "source": [
    "# =============================================\n",
    "# 6. Define Callbacks\n",
    "# =============================================\n",
    "# EarlyStopping: stop training if validation loss doesn't improve for 3 consecutive epochs.\n",
    "early_stop = EarlyStopping(monitor='val_loss', patience=3, restore_best_weights=True)\n",
    "\n",
    "# ModelCheckpoint: save the best model; note the .keras extension (recommended in Keras 3.x).\n",
    "checkpoint = ModelCheckpoint(filepath='/Users/sameerkhan/Desktop/sameerkhanAIData/computerVision/image_ann_model.keras', monitor='val_loss', save_best_only=True)\n",
    "\n",
    "# =============================================\n",
    "# 7. Train the Model with Callbacks\n",
    "# =============================================\n",
    "history = model.fit(\n",
    "    x_train, y_train,\n",
    "    batch_size=64,\n",
    "    epochs=20,\n",
    "    validation_data=(x_val, y_val),\n",
    "    callbacks=[early_stop, checkpoint]\n",
    ")"
   ]
  },
  {
   "cell_type": "code",
   "execution_count": 22,
   "id": "bdf578f1",
   "metadata": {},
   "outputs": [
    {
     "name": "stdout",
     "output_type": "stream",
     "text": [
      "\u001b[1m313/313\u001b[0m \u001b[32m━━━━━━━━━━━━━━━━━━━━\u001b[0m\u001b[37m\u001b[0m \u001b[1m1s\u001b[0m 4ms/step - accuracy: 0.9067 - loss: 0.3194\n",
      "Test Loss: 0.2912, Test Accuracy: 0.9181\n",
      "\u001b[1m313/313\u001b[0m \u001b[32m━━━━━━━━━━━━━━━━━━━━\u001b[0m\u001b[37m\u001b[0m \u001b[1m0s\u001b[0m 1ms/step\n"
     ]
    }
   ],
   "source": [
    "\n",
    "# =============================================\n",
    "# 8. Evaluate the Model on the Test Set\n",
    "# =============================================\n",
    "loss_value, accuracy_value = model.evaluate(x_test, y_test)\n",
    "print(f\"Test Loss: {loss_value:.4f}, Test Accuracy: {accuracy_value:.4f}\")\n",
    "\n",
    "# =============================================\n",
    "# 9. Visualize Predictions\n",
    "# =============================================\n",
    "# Obtain predictions on the test set\n",
    "predictions = model.predict(x_test)\n",
    "predicted_labels = np.argmax(predictions, axis=1)\n",
    "\n",
    "# # Plot the first 25 test images with predicted and true labels\n",
    "# plt.figure(figsize=(10, 10))\n",
    "# for i in range(25):\n",
    "#     plt.subplot(5, 5, i+1)\n",
    "#     plt.imshow(x_test[i].reshape(28, 28), cmap='gray')\n",
    "#     plt.title(f\"Pred: {predicted_labels[i]}\\nTrue: {y_test[i]}\")\n",
    "#     plt.axis('off')\n",
    "# plt.tight_layout()\n",
    "# plt.show()\n"
   ]
  },
  {
   "cell_type": "code",
   "execution_count": 23,
   "id": "c35bb3fe",
   "metadata": {},
   "outputs": [
    {
     "data": {
      "text/plain": [
       "array([[ -0.18884467, -10.44072   ,   1.8865817 , ...,  13.554233  ,\n",
       "          1.9709867 ,   5.4973927 ],\n",
       "       [  8.703362  ,   2.0144966 ,  16.188452  , ..., -18.649458  ,\n",
       "          6.7757087 , -12.6339855 ],\n",
       "       [ -5.3783627 ,   7.3031387 ,   2.5474176 , ...,   0.8343322 ,\n",
       "          1.9265169 ,  -0.19728237],\n",
       "       ...,\n",
       "       [-11.067013  ,  -7.8051405 ,  -2.9391246 , ...,   3.6926908 ,\n",
       "          4.531146  ,   7.392952  ],\n",
       "       [ -0.5668545 ,  -2.9113436 ,  -2.3593175 , ...,  -1.4179054 ,\n",
       "          8.257904  ,  -1.8223528 ],\n",
       "       [  4.8026705 ,  -9.36059   ,   4.894897  , ..., -11.253532  ,\n",
       "         -0.346811  ,  -5.473096  ]], dtype=float32)"
      ]
     },
     "execution_count": 23,
     "metadata": {},
     "output_type": "execute_result"
    }
   ],
   "source": [
    "predictions"
   ]
  },
  {
   "cell_type": "code",
   "execution_count": 24,
   "id": "54d92892",
   "metadata": {},
   "outputs": [
    {
     "data": {
      "text/plain": [
       "array([7, 2, 1, ..., 4, 5, 6])"
      ]
     },
     "execution_count": 24,
     "metadata": {},
     "output_type": "execute_result"
    }
   ],
   "source": [
    "predicted_labels"
   ]
  },
  {
   "cell_type": "code",
   "execution_count": 25,
   "id": "bdab8da9",
   "metadata": {},
   "outputs": [
    {
     "name": "stderr",
     "output_type": "stream",
     "text": [
      "WARNING:absl:You are saving your model as an HDF5 file via `model.save()` or `keras.saving.save_model(model)`. This file format is considered legacy. We recommend using instead the native Keras format, e.g. `model.save('my_model.keras')` or `keras.saving.save_model(model, 'my_model.keras')`. \n"
     ]
    },
    {
     "name": "stdout",
     "output_type": "stream",
     "text": [
      "Model saved as 'image_ann_model.h5'.\n"
     ]
    }
   ],
   "source": [
    "# =============================================\n",
    "# 10. Save the Model\n",
    "# =============================================\n",
    "model.save(\"/Users/sameerkhan/Desktop/sameerkhanAIData/computerVision/image_ann_model.h5\")\n",
    "print(\"Model saved as 'image_ann_model.h5'.\")"
   ]
  },
  {
   "cell_type": "code",
   "execution_count": 26,
   "id": "6eaee841",
   "metadata": {},
   "outputs": [
    {
     "name": "stderr",
     "output_type": "stream",
     "text": [
      "WARNING:absl:Compiled the loaded model, but the compiled metrics have yet to be built. `model.compile_metrics` will be empty until you train or evaluate the model.\n"
     ]
    },
    {
     "data": {
      "text/html": [
       "<pre style=\"white-space:pre;overflow-x:auto;line-height:normal;font-family:Menlo,'DejaVu Sans Mono',consolas,'Courier New',monospace\"><span style=\"font-weight: bold\">Model: \"sequential_3\"</span>\n",
       "</pre>\n"
      ],
      "text/plain": [
       "\u001b[1mModel: \"sequential_3\"\u001b[0m\n"
      ]
     },
     "metadata": {},
     "output_type": "display_data"
    },
    {
     "data": {
      "text/html": [
       "<pre style=\"white-space:pre;overflow-x:auto;line-height:normal;font-family:Menlo,'DejaVu Sans Mono',consolas,'Courier New',monospace\">┏━━━━━━━━━━━━━━━━━━━━━━━━━━━━━━━━━┳━━━━━━━━━━━━━━━━━━━━━━━━┳━━━━━━━━━━━━━━━┓\n",
       "┃<span style=\"font-weight: bold\"> Layer (type)                    </span>┃<span style=\"font-weight: bold\"> Output Shape           </span>┃<span style=\"font-weight: bold\">       Param # </span>┃\n",
       "┡━━━━━━━━━━━━━━━━━━━━━━━━━━━━━━━━━╇━━━━━━━━━━━━━━━━━━━━━━━━╇━━━━━━━━━━━━━━━┩\n",
       "│ dense_6 (<span style=\"color: #0087ff; text-decoration-color: #0087ff\">Dense</span>)                 │ (<span style=\"color: #00d7ff; text-decoration-color: #00d7ff\">None</span>, <span style=\"color: #00af00; text-decoration-color: #00af00\">128</span>)            │       <span style=\"color: #00af00; text-decoration-color: #00af00\">100,480</span> │\n",
       "├─────────────────────────────────┼────────────────────────┼───────────────┤\n",
       "│ dropout_3 (<span style=\"color: #0087ff; text-decoration-color: #0087ff\">Dropout</span>)             │ (<span style=\"color: #00d7ff; text-decoration-color: #00d7ff\">None</span>, <span style=\"color: #00af00; text-decoration-color: #00af00\">128</span>)            │             <span style=\"color: #00af00; text-decoration-color: #00af00\">0</span> │\n",
       "├─────────────────────────────────┼────────────────────────┼───────────────┤\n",
       "│ dense_7 (<span style=\"color: #0087ff; text-decoration-color: #0087ff\">Dense</span>)                 │ (<span style=\"color: #00d7ff; text-decoration-color: #00d7ff\">None</span>, <span style=\"color: #00af00; text-decoration-color: #00af00\">10</span>)             │         <span style=\"color: #00af00; text-decoration-color: #00af00\">1,290</span> │\n",
       "└─────────────────────────────────┴────────────────────────┴───────────────┘\n",
       "</pre>\n"
      ],
      "text/plain": [
       "┏━━━━━━━━━━━━━━━━━━━━━━━━━━━━━━━━━┳━━━━━━━━━━━━━━━━━━━━━━━━┳━━━━━━━━━━━━━━━┓\n",
       "┃\u001b[1m \u001b[0m\u001b[1mLayer (type)                   \u001b[0m\u001b[1m \u001b[0m┃\u001b[1m \u001b[0m\u001b[1mOutput Shape          \u001b[0m\u001b[1m \u001b[0m┃\u001b[1m \u001b[0m\u001b[1m      Param #\u001b[0m\u001b[1m \u001b[0m┃\n",
       "┡━━━━━━━━━━━━━━━━━━━━━━━━━━━━━━━━━╇━━━━━━━━━━━━━━━━━━━━━━━━╇━━━━━━━━━━━━━━━┩\n",
       "│ dense_6 (\u001b[38;5;33mDense\u001b[0m)                 │ (\u001b[38;5;45mNone\u001b[0m, \u001b[38;5;34m128\u001b[0m)            │       \u001b[38;5;34m100,480\u001b[0m │\n",
       "├─────────────────────────────────┼────────────────────────┼───────────────┤\n",
       "│ dropout_3 (\u001b[38;5;33mDropout\u001b[0m)             │ (\u001b[38;5;45mNone\u001b[0m, \u001b[38;5;34m128\u001b[0m)            │             \u001b[38;5;34m0\u001b[0m │\n",
       "├─────────────────────────────────┼────────────────────────┼───────────────┤\n",
       "│ dense_7 (\u001b[38;5;33mDense\u001b[0m)                 │ (\u001b[38;5;45mNone\u001b[0m, \u001b[38;5;34m10\u001b[0m)             │         \u001b[38;5;34m1,290\u001b[0m │\n",
       "└─────────────────────────────────┴────────────────────────┴───────────────┘\n"
      ]
     },
     "metadata": {},
     "output_type": "display_data"
    },
    {
     "data": {
      "text/html": [
       "<pre style=\"white-space:pre;overflow-x:auto;line-height:normal;font-family:Menlo,'DejaVu Sans Mono',consolas,'Courier New',monospace\"><span style=\"font-weight: bold\"> Total params: </span><span style=\"color: #00af00; text-decoration-color: #00af00\">101,772</span> (397.55 KB)\n",
       "</pre>\n"
      ],
      "text/plain": [
       "\u001b[1m Total params: \u001b[0m\u001b[38;5;34m101,772\u001b[0m (397.55 KB)\n"
      ]
     },
     "metadata": {},
     "output_type": "display_data"
    },
    {
     "data": {
      "text/html": [
       "<pre style=\"white-space:pre;overflow-x:auto;line-height:normal;font-family:Menlo,'DejaVu Sans Mono',consolas,'Courier New',monospace\"><span style=\"font-weight: bold\"> Trainable params: </span><span style=\"color: #00af00; text-decoration-color: #00af00\">101,770</span> (397.54 KB)\n",
       "</pre>\n"
      ],
      "text/plain": [
       "\u001b[1m Trainable params: \u001b[0m\u001b[38;5;34m101,770\u001b[0m (397.54 KB)\n"
      ]
     },
     "metadata": {},
     "output_type": "display_data"
    },
    {
     "data": {
      "text/html": [
       "<pre style=\"white-space:pre;overflow-x:auto;line-height:normal;font-family:Menlo,'DejaVu Sans Mono',consolas,'Courier New',monospace\"><span style=\"font-weight: bold\"> Non-trainable params: </span><span style=\"color: #00af00; text-decoration-color: #00af00\">0</span> (0.00 B)\n",
       "</pre>\n"
      ],
      "text/plain": [
       "\u001b[1m Non-trainable params: \u001b[0m\u001b[38;5;34m0\u001b[0m (0.00 B)\n"
      ]
     },
     "metadata": {},
     "output_type": "display_data"
    },
    {
     "data": {
      "text/html": [
       "<pre style=\"white-space:pre;overflow-x:auto;line-height:normal;font-family:Menlo,'DejaVu Sans Mono',consolas,'Courier New',monospace\"><span style=\"font-weight: bold\"> Optimizer params: </span><span style=\"color: #00af00; text-decoration-color: #00af00\">2</span> (12.00 B)\n",
       "</pre>\n"
      ],
      "text/plain": [
       "\u001b[1m Optimizer params: \u001b[0m\u001b[38;5;34m2\u001b[0m (12.00 B)\n"
      ]
     },
     "metadata": {},
     "output_type": "display_data"
    },
    {
     "name": "stdout",
     "output_type": "stream",
     "text": [
      "\u001b[1m313/313\u001b[0m \u001b[32m━━━━━━━━━━━━━━━━━━━━\u001b[0m\u001b[37m\u001b[0m \u001b[1m0s\u001b[0m 1ms/step\n",
      "predictedlabels [7 2 1 ... 4 5 6]\n",
      "First 10 Predicted Labels: [7 2 1 0 4 1 4 9 6 9]\n",
      "First 10 True Labels: [7 2 1 0 4 1 4 9 5 9]\n"
     ]
    },
    {
     "data": {
      "image/png": "[encoded data removed]",
      "text/plain": [
       "<Figure size 1000x1000 with 9 Axes>"
      ]
     },
     "metadata": {},
     "output_type": "display_data"
    }
   ],
   "source": [
    "import tensorflow as tf\n",
    "import numpy as np\n",
    "import matplotlib.pyplot as plt\n",
    "\n",
    "# ------------------------------\n",
    "# 1. Load the Saved Model\n",
    "# ------------------------------\n",
    "# This assumes that you saved your model using model.save(\"mnist_ann_model.h5\")\n",
    "loaded_model = tf.keras.models.load_model(\"/Users/sameerkhan/Desktop/sameerkhanAIData/computerVision/image_ann_model.h5\")\n",
    "loaded_model.summary()  # Verify that the model structure loads correctly\n",
    "\n",
    "# ------------------------------\n",
    "# 2. Prepare Data for Prediction\n",
    "# ------------------------------\n",
    "# For demonstration, we'll load the MNIST dataset again.\n",
    "# In practice, you would load your own test data.\n",
    "(x_train, y_train), (x_test, y_test) = tf.keras.datasets.mnist.load_data()\n",
    "\n",
    "# Normalize the test images (if you normalized training data similarly during training)\n",
    "x_test = x_test.astype(\"float32\") / 255.0\n",
    "\n",
    "# If the model was built for a fully-connected network, flatten the images.\n",
    "# (Our example model expects a 784-dimensional vector.)\n",
    "x_test_flat = x_test.reshape(-1, 28 * 28)\n",
    "\n",
    "# ------------------------------\n",
    "# 3. Make Predictions\n",
    "# ------------------------------\n",
    "# Use the loaded model to predict on the test set.\n",
    "predictions = loaded_model.predict(x_test_flat)\n",
    "\n",
    "# Since our output layer produces logits and we use SparseCategoricalCrossentropy with from_logits=True,\n",
    "# convert logits to predicted class labels using argmax.\n",
    "predicted_labels = np.argmax(predictions, axis=1)\n",
    "print(\"predictedlabels\",predicted_labels)\n",
    "# ------------------------------\n",
    "# 4. Evaluate Predictions (Optional)\n",
    "# ------------------------------\n",
    "# Print the first 10 predicted and true labels for quick inspection.\n",
    "print(\"First 10 Predicted Labels:\", predicted_labels[:10])\n",
    "print(\"First 10 True Labels:\", y_test[:10])\n",
    "\n",
    "# ------------------------------\n",
    "# 5. Visualize Some Predictions\n",
    "# ------------------------------\n",
    "plt.figure(figsize=(10, 10))\n",
    "for i in range(9):\n",
    "    plt.subplot(3, 3, i+1)\n",
    "    plt.imshow(x_test[i], cmap='gray')\n",
    "    plt.title(f\"Pred: {predicted_labels[i]}\\nTrue: {y_test[i]}\")\n",
    "    plt.axis('off')\n",
    "plt.tight_layout()\n",
    "plt.show()"
   ]
  },
  {
   "cell_type": "code",
   "execution_count": null,
   "id": "99e89fcc",
   "metadata": {},
   "outputs": [],
   "source": []
  }
 ],
 "metadata": {
  "kernelspec": {
   "display_name": "skhan3",
   "language": "python",
   "name": "python3"
  },
  "language_info": {
   "codemirror_mode": {
    "name": "ipython",
    "version": 3
   },
   "file_extension": ".py",
   "mimetype": "text/x-python",
   "name": "python",
   "nbconvert_exporter": "python",
   "pygments_lexer": "ipython3",
   "version": "3.9.21"
  }
 },
 "nbformat": 4,
 "nbformat_minor": 5
}
