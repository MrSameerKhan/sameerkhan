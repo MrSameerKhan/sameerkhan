{
 "cells": [
  {
   "cell_type": "markdown",
   "id": "4c9b3ca6",
   "metadata": {},
   "source": [
    "# Implementing CNNs with Keras\n",
    "## Building an Image Classifier Using the Sequential API\n",
    "### Loading and Preprocessing the CIFAR‑10 Dataset"
   ]
  },
  {
   "cell_type": "code",
   "execution_count": 7,
   "id": "32396a60",
   "metadata": {},
   "outputs": [],
   "source": [
    "import tensorflow as tf\n",
    "from tensorflow.keras import layers, models\n",
    "import numpy as np\n",
    "import matplotlib.pyplot as plt"
   ]
  },
  {
   "cell_type": "code",
   "execution_count": 8,
   "id": "36bbb0c1",
   "metadata": {},
   "outputs": [],
   "source": [
    "# 1) Load & split the dataset\n",
    "fashion_mnist = tf.keras.datasets.fashion_mnist.load_data()\n",
    "(X_train_full, y_train_full), (X_test, y_test) = fashion_mnist\n",
    "X_train, y_train = X_train_full[:-5000], y_train_full[:-5000]\n",
    "X_valid, y_valid = X_train_full[-5000:], y_train_full[-5000:]"
   ]
  },
  {
   "cell_type": "code",
   "execution_count": 9,
   "id": "3e79072b",
   "metadata": {},
   "outputs": [
    {
     "name": "stdout",
     "output_type": "stream",
     "text": [
      "(55000, 28, 28)\n",
      "(55000,)\n",
      "(28, 28)\n",
      "()\n",
      "9\n"
     ]
    }
   ],
   "source": [
    "print(X_train.shape)\n",
    "print(y_train.shape)\n",
    "\n",
    "print(X_train[0].shape)\n",
    "print(y_train[0].shape)\n",
    "\n",
    "print(y_test[0])"
   ]
  },
  {
   "cell_type": "code",
   "execution_count": 10,
   "id": "af19a31b",
   "metadata": {},
   "outputs": [],
   "source": [
    "# 1. Reshape to add the channel dimension\n",
    "X_train = X_train.reshape(-1, 28, 28, 1)\n",
    "X_valid = X_valid.reshape(-1, 28, 28, 1)\n",
    "X_test  = X_test.reshape(-1, 28, 28, 1)"
   ]
  },
  {
   "cell_type": "code",
   "execution_count": 11,
   "id": "472a707c",
   "metadata": {},
   "outputs": [],
   "source": [
    "# 2) Normalize pixels to [0,1]\n",
    "X_train, X_valid, X_test = X_train / 255., X_valid / 255., X_test / 255."
   ]
  },
  {
   "cell_type": "code",
   "execution_count": 12,
   "id": "37596c52",
   "metadata": {},
   "outputs": [
    {
     "data": {
      "image/png": "[encoded data removed]",
      "text/plain": [
       "<Figure size 200x200 with 1 Axes>"
      ]
     },
     "metadata": {},
     "output_type": "display_data"
    }
   ],
   "source": [
    "plt.figure(figsize=(2, 2))  # Smaller size\n",
    "plt.imshow(X_train[0], cmap=\"binary\")\n",
    "plt.axis('off')\n",
    "plt.show()"
   ]
  },
  {
   "cell_type": "code",
   "execution_count": 13,
   "id": "f15c7ab0",
   "metadata": {},
   "outputs": [],
   "source": [
    "class_names = [\"T-shirt/top\", \"Trouser\", \"Pullover\", \"Dress\", \"Coat\",\n",
    "               \"Sandal\", \"Shirt\", \"Sneaker\", \"Bag\", \"Ankle boot\"]"
   ]
  },
  {
   "cell_type": "code",
   "execution_count": 14,
   "id": "53ad7277",
   "metadata": {},
   "outputs": [
    {
     "name": "stdout",
     "output_type": "stream",
     "text": [
      "Model: \"sequential\"\n",
      "_________________________________________________________________\n",
      " Layer (type)                Output Shape              Param #   \n",
      "=================================================================\n",
      " conv2d (Conv2D)             (None, 26, 26, 32)        320       \n",
      "                                                                 \n",
      " max_pooling2d (MaxPooling2  (None, 13, 13, 32)        0         \n",
      " D)                                                              \n",
      "                                                                 \n",
      " conv2d_1 (Conv2D)           (None, 11, 11, 64)        18496     \n",
      "                                                                 \n",
      " max_pooling2d_1 (MaxPoolin  (None, 5, 5, 64)          0         \n",
      " g2D)                                                            \n",
      "                                                                 \n",
      " conv2d_2 (Conv2D)           (None, 3, 3, 64)          36928     \n",
      "                                                                 \n",
      " flatten (Flatten)           (None, 576)               0         \n",
      "                                                                 \n",
      " dense (Dense)               (None, 64)                36928     \n",
      "                                                                 \n",
      " dense_1 (Dense)             (None, 10)                650       \n",
      "                                                                 \n",
      "=================================================================\n",
      "Total params: 93322 (364.54 KB)\n",
      "Trainable params: 93322 (364.54 KB)\n",
      "Non-trainable params: 0 (0.00 Byte)\n",
      "_________________________________________________________________\n"
     ]
    }
   ],
   "source": [
    "# Build CNN model\n",
    "model = models.Sequential([\n",
    "    layers.Conv2D(32, (3,3), activation='relu', input_shape=(28,28,1)),\n",
    "    layers.MaxPooling2D((2,2)),\n",
    "    layers.Conv2D(64, (3,3), activation='relu'),\n",
    "    layers.MaxPooling2D((2,2)),\n",
    "    layers.Conv2D(64, (3,3), activation='relu'),\n",
    "    layers.Flatten(),\n",
    "    layers.Dense(64, activation='relu'),\n",
    "    layers.Dense(10, activation='softmax')\n",
    "])\n",
    "\n",
    "model.summary()"
   ]
  },
  {
   "cell_type": "code",
   "execution_count": 15,
   "id": "2373a0ac",
   "metadata": {},
   "outputs": [],
   "source": [
    "# Compile & train\n",
    "model.compile(optimizer='adam',\n",
    "              loss='sparse_categorical_crossentropy',\n",
    "              metrics=['accuracy'])"
   ]
  },
  {
   "cell_type": "code",
   "execution_count": 16,
   "id": "a513aa75",
   "metadata": {},
   "outputs": [
    {
     "name": "stdout",
     "output_type": "stream",
     "text": [
      "Epoch 1/10\n",
      "1719/1719 [==============================] - 17s 9ms/step - loss: 0.5114 - accuracy: 0.8134 - val_loss: 0.3639 - val_accuracy: 0.8652\n",
      "Epoch 2/10\n",
      "1719/1719 [==============================] - 16s 9ms/step - loss: 0.3334 - accuracy: 0.8783 - val_loss: 0.3117 - val_accuracy: 0.8872\n",
      "Epoch 3/10\n",
      "1719/1719 [==============================] - 16s 9ms/step - loss: 0.2884 - accuracy: 0.8933 - val_loss: 0.2907 - val_accuracy: 0.8920\n",
      "Epoch 4/10\n",
      "1719/1719 [==============================] - 16s 10ms/step - loss: 0.2560 - accuracy: 0.9056 - val_loss: 0.3045 - val_accuracy: 0.8942\n",
      "Epoch 5/10\n",
      "1719/1719 [==============================] - 16s 9ms/step - loss: 0.2337 - accuracy: 0.9132 - val_loss: 0.3046 - val_accuracy: 0.8940\n",
      "Epoch 6/10\n",
      "1719/1719 [==============================] - 16s 9ms/step - loss: 0.2130 - accuracy: 0.9202 - val_loss: 0.2597 - val_accuracy: 0.9034\n",
      "Epoch 7/10\n",
      "1719/1719 [==============================] - 16s 9ms/step - loss: 0.1943 - accuracy: 0.9269 - val_loss: 0.2540 - val_accuracy: 0.9110\n",
      "Epoch 8/10\n",
      "1719/1719 [==============================] - 16s 9ms/step - loss: 0.1793 - accuracy: 0.9324 - val_loss: 0.2472 - val_accuracy: 0.9136\n",
      "Epoch 9/10\n",
      "1719/1719 [==============================] - 16s 9ms/step - loss: 0.1645 - accuracy: 0.9385 - val_loss: 0.2722 - val_accuracy: 0.9102\n",
      "Epoch 10/10\n",
      "1719/1719 [==============================] - 16s 9ms/step - loss: 0.1492 - accuracy: 0.9440 - val_loss: 0.2833 - val_accuracy: 0.9076\n"
     ]
    }
   ],
   "source": [
    "history = model.fit(X_train, y_train, epochs=10,\n",
    "                    validation_data=(X_valid, y_valid))"
   ]
  },
  {
   "cell_type": "code",
   "execution_count": 17,
   "id": "11b6e2d7",
   "metadata": {},
   "outputs": [
    {
     "name": "stdout",
     "output_type": "stream",
     "text": [
      "313/313 [==============================] - 1s 3ms/step - loss: 0.3014 - accuracy: 0.9079\n",
      "\n",
      "Test Accuracy: 0.9079\n"
     ]
    }
   ],
   "source": [
    "# Evaluate\n",
    "test_loss, test_acc = model.evaluate(X_test, y_test)\n",
    "print(f\"\\nTest Accuracy: {test_acc:.4f}\")"
   ]
  },
  {
   "cell_type": "code",
   "execution_count": 18,
   "id": "7f1026c6",
   "metadata": {},
   "outputs": [
    {
     "name": "stdout",
     "output_type": "stream",
     "text": [
      "1/1 [==============================] - 0s 82ms/step\n"
     ]
    },
    {
     "data": {
      "text/plain": [
       "array([[0., 0., 0., 0., 0., 0., 0., 0., 0., 1.],\n",
       "       [0., 0., 1., 0., 0., 0., 0., 0., 0., 0.],\n",
       "       [0., 1., 0., 0., 0., 0., 0., 0., 0., 0.],\n",
       "       [0., 1., 0., 0., 0., 0., 0., 0., 0., 0.]], dtype=float32)"
      ]
     },
     "execution_count": 18,
     "metadata": {},
     "output_type": "execute_result"
    }
   ],
   "source": [
    "X_new = X_test[:4]\n",
    "y_proba = model.predict(X_new)\n",
    "y_proba.round(2)\n",
    "# y_proba"
   ]
  },
  {
   "cell_type": "code",
   "execution_count": 19,
   "id": "da1c5ec4",
   "metadata": {},
   "outputs": [
    {
     "name": "stdout",
     "output_type": "stream",
     "text": [
      "1/1 [==============================] - 0s 21ms/step\n",
      "[[0.   0.   0.   0.   0.   0.   0.   0.   0.   1.  ]\n",
      " [0.   0.   1.   0.   0.   0.   0.   0.   0.   0.  ]\n",
      " [0.   1.   0.   0.   0.   0.   0.   0.   0.   0.  ]\n",
      " [0.   1.   0.   0.   0.   0.   0.   0.   0.   0.  ]\n",
      " [0.08 0.   0.   0.   0.   0.   0.92 0.   0.   0.  ]]\n",
      "Sample 0: Predicted=9, True=9\n",
      "Sample 1: Predicted=2, True=2\n",
      "Sample 2: Predicted=1, True=1\n",
      "Sample 3: Predicted=1, True=1\n",
      "Sample 4: Predicted=6, True=6\n"
     ]
    }
   ],
   "source": [
    "\n",
    "# 7) Predict on new samples\n",
    "X_new = X_test[:5]\n",
    "y_pred_probs = model.predict(X_new)\n",
    "print(y_pred_probs.round(2))\n",
    "y_pred = np.argmax(y_pred_probs, axis=1)\n",
    "\n",
    "for i, (pred, true) in enumerate(zip(y_pred, y_test[:5])):\n",
    "    print(f\"Sample {i}: Predicted={pred}, True={true}\")"
   ]
  },
  {
   "cell_type": "code",
   "execution_count": 20,
   "id": "7ca657dd",
   "metadata": {},
   "outputs": [
    {
     "data": {
      "text/plain": [
       "array([9, 2, 1, 1, 6], dtype=int64)"
      ]
     },
     "execution_count": 20,
     "metadata": {},
     "output_type": "execute_result"
    }
   ],
   "source": [
    "y_pred = y_pred_probs.argmax(axis=-1)\n",
    "y_pred"
   ]
  },
  {
   "cell_type": "code",
   "execution_count": 21,
   "id": "6f42b0df",
   "metadata": {},
   "outputs": [
    {
     "data": {
      "text/plain": [
       "array(['Ankle boot', 'Pullover', 'Trouser', 'Trouser', 'Shirt'],\n",
       "      dtype='<U11')"
      ]
     },
     "execution_count": 21,
     "metadata": {},
     "output_type": "execute_result"
    }
   ],
   "source": [
    "np.array(class_names)[y_pred]"
   ]
  },
  {
   "cell_type": "code",
   "execution_count": 22,
   "id": "1a4c1bcc",
   "metadata": {},
   "outputs": [
    {
     "data": {
      "text/plain": [
       "array([9, 2, 1, 1, 6], dtype=uint8)"
      ]
     },
     "execution_count": 22,
     "metadata": {},
     "output_type": "execute_result"
    }
   ],
   "source": [
    "y_new = y_test[:5]\n",
    "y_new"
   ]
  }
 ],
 "metadata": {
  "kernelspec": {
   "display_name": "homl3",
   "language": "python",
   "name": "python3"
  },
  "language_info": {
   "codemirror_mode": {
    "name": "ipython",
    "version": 3
   },
   "file_extension": ".py",
   "mimetype": "text/x-python",
   "name": "python",
   "nbconvert_exporter": "python",
   "pygments_lexer": "ipython3",
   "version": "3.10.17"
  }
 },
 "nbformat": 4,
 "nbformat_minor": 5
}
